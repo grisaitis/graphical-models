{
 "cells": [
  {
   "cell_type": "code",
   "execution_count": 1,
   "metadata": {
    "ExecuteTime": {
     "end_time": "2020-04-30T00:48:57.284079Z",
     "start_time": "2020-04-30T00:48:46.651239Z"
    }
   },
   "outputs": [],
   "source": [
    "import jax\n",
    "import jax.numpy as jnp\n",
    "import numpy as np\n",
    "import tensorflow_probability as tfp"
   ]
  },
  {
   "cell_type": "code",
   "execution_count": 2,
   "metadata": {
    "ExecuteTime": {
     "end_time": "2020-04-30T00:48:57.469956Z",
     "start_time": "2020-04-30T00:48:57.285921Z"
    }
   },
   "outputs": [
    {
     "name": "stderr",
     "output_type": "stream",
     "text": [
      "/Users/william/Library/Caches/pypoetry/virtualenvs/visualized-ml-gBEl7DCY-py3.8/lib/python3.8/site-packages/jax/lib/xla_bridge.py:123: UserWarning: No GPU/TPU found, falling back to CPU.\n",
      "  warnings.warn('No GPU/TPU found, falling back to CPU.')\n"
     ]
    }
   ],
   "source": [
    "key = jax.random.PRNGKey(seed=0)\n",
    "k = 5\n",
    "p = np.ones((k,)) / k\n",
    "n = 10_000"
   ]
  },
  {
   "cell_type": "code",
   "execution_count": 3,
   "metadata": {
    "ExecuteTime": {
     "end_time": "2020-04-30T00:49:09.053311Z",
     "start_time": "2020-04-30T00:48:57.474170Z"
    }
   },
   "outputs": [
    {
     "name": "stdout",
     "output_type": "stream",
     "text": [
      "[2 1 2 ... 0 0 3]\n",
      "12 ms ± 556 µs per loop (mean ± std. dev. of 7 runs, 100 loops each)\n"
     ]
    }
   ],
   "source": [
    "def sample_jax_random(key, p, n):\n",
    "    return jax.random.categorical(key, logits=jnp.log(p), shape=(n,))\n",
    "\n",
    "\n",
    "print(sample_jax_random(key, p, n))\n",
    "\n",
    "%timeit sample_jax_random(key, p, n)"
   ]
  },
  {
   "cell_type": "code",
   "execution_count": 4,
   "metadata": {
    "ExecuteTime": {
     "end_time": "2020-04-30T00:49:12.638342Z",
     "start_time": "2020-04-30T00:49:09.063768Z"
    }
   },
   "outputs": [
    {
     "name": "stdout",
     "output_type": "stream",
     "text": [
      "[2 1 2 ... 0 0 3]\n",
      "3.07 ms ± 597 µs per loop (mean ± std. dev. of 7 runs, 100 loops each)\n"
     ]
    }
   ],
   "source": [
    "sample_jax_random_jit = jax.jit(sample_jax_random, static_argnums=(2,))\n",
    "\n",
    "print(sample_jax_random_jit(key, p, n))\n",
    "\n",
    "%timeit sample_jax_random_jit(key, p, n)"
   ]
  },
  {
   "cell_type": "code",
   "execution_count": 5,
   "metadata": {
    "ExecuteTime": {
     "end_time": "2020-04-30T00:49:23.216858Z",
     "start_time": "2020-04-30T00:49:12.653646Z"
    }
   },
   "outputs": [
    {
     "name": "stdout",
     "output_type": "stream",
     "text": [
      "[2 2 0 ... 1 0 3]\n",
      "76.2 ms ± 8.72 ms per loop (mean ± std. dev. of 7 runs, 10 loops each)\n"
     ]
    }
   ],
   "source": [
    "def sample_tfp_jax(key, p, n):\n",
    "    cat_dist = tfp.experimental.substrates.jax.distributions.Categorical(probs=p)\n",
    "    return cat_dist.sample(sample_shape=(n,), seed=key)\n",
    "\n",
    "\n",
    "print(sample_tfp_jax(key, p, n))\n",
    "\n",
    "%timeit sample_tfp_jax(key, p, n)"
   ]
  },
  {
   "cell_type": "code",
   "execution_count": 6,
   "metadata": {
    "ExecuteTime": {
     "end_time": "2020-04-30T00:49:29.014885Z",
     "start_time": "2020-04-30T00:49:23.241768Z"
    }
   },
   "outputs": [
    {
     "name": "stdout",
     "output_type": "stream",
     "text": [
      "[2 2 0 ... 1 0 3]\n",
      "3.91 ms ± 929 µs per loop (mean ± std. dev. of 7 runs, 100 loops each)\n"
     ]
    }
   ],
   "source": [
    "sample_tfp_jax_jit = jax.jit(sample_tfp_jax, static_argnums=(2,))\n",
    "\n",
    "print(sample_tfp_jax_jit(key, p, n))\n",
    "\n",
    "%timeit sample_tfp_jax_jit(key, p, n)"
   ]
  }
 ],
 "metadata": {
  "kernelspec": {
   "display_name": "Python 3",
   "language": "python",
   "name": "python3"
  },
  "language_info": {
   "codemirror_mode": {
    "name": "ipython",
    "version": 3
   },
   "file_extension": ".py",
   "mimetype": "text/x-python",
   "name": "python",
   "nbconvert_exporter": "python",
   "pygments_lexer": "ipython3",
   "version": "3.8.1"
  },
  "toc": {
   "base_numbering": 1,
   "nav_menu": {},
   "number_sections": true,
   "sideBar": true,
   "skip_h1_title": false,
   "title_cell": "Table of Contents",
   "title_sidebar": "Contents",
   "toc_cell": false,
   "toc_position": {},
   "toc_section_display": true,
   "toc_window_display": false
  },
  "varInspector": {
   "cols": {
    "lenName": 16,
    "lenType": 16,
    "lenVar": 40
   },
   "kernels_config": {
    "python": {
     "delete_cmd_postfix": "",
     "delete_cmd_prefix": "del ",
     "library": "var_list.py",
     "varRefreshCmd": "print(var_dic_list())"
    },
    "r": {
     "delete_cmd_postfix": ") ",
     "delete_cmd_prefix": "rm(",
     "library": "var_list.r",
     "varRefreshCmd": "cat(var_dic_list()) "
    }
   },
   "types_to_exclude": [
    "module",
    "function",
    "builtin_function_or_method",
    "instance",
    "_Feature"
   ],
   "window_display": false
  }
 },
 "nbformat": 4,
 "nbformat_minor": 4
}
