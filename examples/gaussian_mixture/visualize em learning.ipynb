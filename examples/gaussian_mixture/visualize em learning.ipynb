{
 "cells": [
  {
   "cell_type": "code",
   "execution_count": 1,
   "metadata": {
    "ExecuteTime": {
     "end_time": "2020-05-27T22:09:18.153906Z",
     "start_time": "2020-05-27T22:09:17.374580Z"
    }
   },
   "outputs": [],
   "source": [
    "import json\n",
    "import logging\n",
    "\n",
    "import numpy as np\n",
    "\n",
    "from graphical_models.gaussian_mixture.univariate import (\n",
    "    UnivariateGaussianMixture,\n",
    "    learn_em,\n",
    ")\n"
   ]
  },
  {
   "cell_type": "markdown",
   "metadata": {},
   "source": [
    "# setup"
   ]
  },
  {
   "cell_type": "markdown",
   "metadata": {},
   "source": [
    "## logging"
   ]
  },
  {
   "cell_type": "code",
   "execution_count": 2,
   "metadata": {
    "ExecuteTime": {
     "end_time": "2020-05-27T22:09:18.208747Z",
     "start_time": "2020-05-27T22:09:18.156579Z"
    }
   },
   "outputs": [],
   "source": [
    "class UnivariateGaussianMixtureHandler(logging.Handler):\n",
    "    def emit(self, record):\n",
    "#         print(record.data[\"improvement\"])\n",
    "        if record.data[\"iteration\"] == 1:\n",
    "            self._previous_value = -1e100\n",
    "            self._iterations = ()\n",
    "            self._likelihoods = ()\n",
    "            self._improvements = ()\n",
    "        self._iterations = self._iterations + (record.data[\"iteration\"],)\n",
    "        self._likelihoods = self._likelihoods + (record.data[\"average_log_likelihood\"],)\n",
    "        self._improvements = self._improvements + (record.data[\"improvement\"],)\n",
    "        improvement_since_last = record.data[\"average_log_likelihood\"] - self._previous_value\n",
    "        ignore = improvement_since_last < 0.01\n",
    "        ignore = ignore and not record.data[\"is_done\"]\n",
    "        ignore = ignore and not len(self._iterations) > 10\n",
    "        if ignore:\n",
    "            return\n",
    "        update_learned_gmm_plots(record.data[\"gaussian_mixture\"])\n",
    "        update_progress_plot(\n",
    "            self._iterations,\n",
    "            self._likelihoods,\n",
    "            self._improvements)\n",
    "        # reset history\n",
    "        self._previous_value = record.data[\"average_log_likelihood\"]\n",
    "        self._iterations = ()\n",
    "        self._likelihoods = ()\n",
    "        self._improvements = ()\n",
    "        return\n",
    "\n",
    "\n",
    "logging.basicConfig(level='DEBUG')\n",
    "logging.getLogger(\"graphical_models.gaussian_mixture.univariate\").addHandler(UnivariateGaussianMixtureHandler())\n",
    "logger = logging.getLogger(__name__)\n"
   ]
  },
  {
   "cell_type": "code",
   "execution_count": 3,
   "metadata": {
    "ExecuteTime": {
     "end_time": "2020-05-27T22:09:18.239373Z",
     "start_time": "2020-05-27T22:09:18.212907Z"
    }
   },
   "outputs": [
    {
     "data": {
      "text/plain": [
       "[<StreamHandler stderr (NOTSET)>]"
      ]
     },
     "execution_count": 3,
     "metadata": {},
     "output_type": "execute_result"
    }
   ],
   "source": [
    "logging.getLogger().handlers"
   ]
  },
  {
   "cell_type": "code",
   "execution_count": 4,
   "metadata": {
    "ExecuteTime": {
     "end_time": "2020-05-27T22:09:18.261303Z",
     "start_time": "2020-05-27T22:09:18.253848Z"
    }
   },
   "outputs": [
    {
     "data": {
      "text/plain": [
       "[<UnivariateGaussianMixtureHandler (NOTSET)>]"
      ]
     },
     "execution_count": 4,
     "metadata": {},
     "output_type": "execute_result"
    }
   ],
   "source": [
    "logging.getLogger(\"graphical_models.gaussian_mixture.univariate\").handlers"
   ]
  },
  {
   "cell_type": "code",
   "execution_count": 5,
   "metadata": {
    "ExecuteTime": {
     "end_time": "2020-05-27T22:09:18.304520Z",
     "start_time": "2020-05-27T22:09:18.288373Z"
    }
   },
   "outputs": [
    {
     "data": {
      "text/plain": [
       "[]"
      ]
     },
     "execution_count": 5,
     "metadata": {},
     "output_type": "execute_result"
    }
   ],
   "source": [
    "logging.getLogger(__name__).handlers"
   ]
  },
  {
   "cell_type": "markdown",
   "metadata": {},
   "source": [
    "## data"
   ]
  },
  {
   "cell_type": "code",
   "execution_count": 6,
   "metadata": {
    "ExecuteTime": {
     "end_time": "2020-05-27T22:09:18.344132Z",
     "start_time": "2020-05-27T22:09:18.328195Z"
    }
   },
   "outputs": [],
   "source": [
    "np.set_printoptions(suppress=True)\n",
    "np_rng = np.random.default_rng(seed=0)\n"
   ]
  },
  {
   "cell_type": "code",
   "execution_count": 7,
   "metadata": {
    "ExecuteTime": {
     "end_time": "2020-05-27T22:09:18.366812Z",
     "start_time": "2020-05-27T22:09:18.354279Z"
    }
   },
   "outputs": [
    {
     "name": "stderr",
     "output_type": "stream",
     "text": [
      "INFO:__main__:oracle: GaussianMixture(\n",
      "\tweights=array([0.18918143, 0.23693148, 0.13786091, 0.30952975, 0.12649643]),\n",
      "\tlocs=array([ -3.11637231,   0.2066299 , -11.62515387,  -1.09395832,\n",
      "        -6.22955474]),\n",
      "\tscales=array([0.73226735, 0.54425898, 0.31630016, 0.41163054, 1.04251337])\n",
      ")\n"
     ]
    }
   ],
   "source": [
    "k = 5\n",
    "alpha_dirichlet = np.ones(shape=(k,)) * 5\n",
    "weights = np_rng.dirichlet(alpha=alpha_dirichlet)\n",
    "locs = np_rng.normal(size=(k,)) * 5\n",
    "scales = np.abs(np_rng.normal(size=(k,)))\n",
    "oracle = UnivariateGaussianMixture(weights, locs, scales)\n",
    "\n",
    "logger.info(\"oracle: %s\", oracle)"
   ]
  },
  {
   "cell_type": "code",
   "execution_count": 8,
   "metadata": {
    "ExecuteTime": {
     "end_time": "2020-05-27T22:09:18.391404Z",
     "start_time": "2020-05-27T22:09:18.384409Z"
    }
   },
   "outputs": [],
   "source": [
    "x = oracle.sample(seed=1, n=10_000)\n"
   ]
  },
  {
   "cell_type": "markdown",
   "metadata": {},
   "source": [
    "# figure"
   ]
  },
  {
   "cell_type": "code",
   "execution_count": 9,
   "metadata": {
    "ExecuteTime": {
     "end_time": "2020-05-27T22:09:19.282220Z",
     "start_time": "2020-05-27T22:09:18.403531Z"
    }
   },
   "outputs": [],
   "source": [
    "import plotly.express as px\n",
    "import plotly.graph_objects as go\n",
    "from plotly.subplots import make_subplots\n"
   ]
  },
  {
   "cell_type": "code",
   "execution_count": 10,
   "metadata": {
    "ExecuteTime": {
     "end_time": "2020-05-27T22:09:19.333949Z",
     "start_time": "2020-05-27T22:09:19.285028Z"
    }
   },
   "outputs": [],
   "source": [
    "data_hist = go.Histogram(\n",
    "    name='data',\n",
    "    x=x,\n",
    "#     nbinsx=nbinsx,\n",
    "#     histnorm='probability'\n",
    ")\n",
    "\n",
    "def make_empty_gmm_plot(name):\n",
    "    return go.Scatter(\n",
    "        name=name,\n",
    "        x=[],\n",
    "        y=[],\n",
    "        mode='markers',\n",
    "        error_x=dict(\n",
    "            type='data',\n",
    "            array=[],\n",
    "            thickness=1,\n",
    "        ),\n",
    "        marker=dict(\n",
    "            size=10,\n",
    "            color=px.colors.qualitative.Plotly,\n",
    "            symbol='circle',\n",
    "            line=dict(\n",
    "                color='black',\n",
    "                width=3\n",
    "            )\n",
    "    ))\n"
   ]
  },
  {
   "cell_type": "code",
   "execution_count": 11,
   "metadata": {
    "ExecuteTime": {
     "end_time": "2020-05-27T22:09:20.339207Z",
     "start_time": "2020-05-27T22:09:19.338118Z"
    }
   },
   "outputs": [],
   "source": [
    "fig = make_subplots(\n",
    "    rows=3,\n",
    "    cols=1,\n",
    "    shared_xaxes=True,\n",
    "    subplot_titles=[\n",
    "        \"data\",\n",
    "        \"generative gmm (log scale)\",\n",
    "        \"learned gmm (log scale)\",\n",
    "#         \"generative gmm\",\n",
    "#         \"learned gmm\",\n",
    "    ],\n",
    "    vertical_spacing=0.1,\n",
    "\n",
    ")\n",
    "fig.update_layout(height=800, title_text=\"gaussian mixture learning\")\n",
    "# fig.update_layout(legend=dict(x=1, y=1))\n",
    "fig.update_layout(showlegend=False)\n",
    "fig.add_trace(data_hist, row=1, col=1)\n",
    "fig.add_trace(make_empty_gmm_plot('generative gmm (log scale)'), row=2, col=1)\n",
    "fig.add_trace(make_empty_gmm_plot('learned gmm (log scale)'), row=3, col=1)\n",
    "# fig.add_trace(make_empty_gmm_plot('generative gmm'), row=4, col=1)\n",
    "# fig.add_trace(make_empty_gmm_plot('learned gmm'), row=5, col=1)\n",
    "fig.update_xaxes(title_text='x', range=[min(x), max(x)])\n",
    "fig.update_yaxes(\n",
    "    title_text=\"mixture weights\",\n",
    "    range=[-2, 0],\n",
    "    type=\"log\",\n",
    "    row=2,\n",
    "    col=1)\n",
    "fig.update_yaxes(\n",
    "    title_text=\"mixture weights\",\n",
    "    range=[-2, 0],\n",
    "    type=\"log\",\n",
    "    row=3,\n",
    "    col=1)\n",
    "# fig.update_yaxes(\n",
    "#     title_text=\"mixture weights\",\n",
    "#     range=[0, 1],\n",
    "#     row=4,\n",
    "#     col=1)\n",
    "# fig.update_yaxes(\n",
    "#     title_text=\"mixture weights\",\n",
    "#     range=[0, 1],\n",
    "#     row=5,\n",
    "#     col=1)\n",
    "\n",
    "fig = go.FigureWidget(fig)\n",
    "\n",
    "\n",
    "def update_gmm_plot(gmm, trace):\n",
    "    fig.data[trace].x = gmm.locs\n",
    "    fig.data[trace].y = gmm.weights\n",
    "    fig.data[trace].error_x.array = gmm.scales\n",
    "    return\n",
    "\n",
    "\n",
    "def set_oracle_plots(gmm):\n",
    "    update_gmm_plot(gmm, trace=1)\n",
    "#     update_gmm_plot(gmm, trace=3)\n",
    "    return\n",
    "\n",
    "\n",
    "def update_learned_gmm_plots(gmm):\n",
    "    update_gmm_plot(gmm, trace=2)\n",
    "#     update_gmm_plot(gmm, trace=4)\n",
    "    return\n"
   ]
  },
  {
   "cell_type": "code",
   "execution_count": 12,
   "metadata": {
    "ExecuteTime": {
     "end_time": "2020-05-27T22:09:20.816874Z",
     "start_time": "2020-05-27T22:09:20.341915Z"
    }
   },
   "outputs": [],
   "source": [
    "def make_empty_line_plot():\n",
    "    return go.Scatter(x=[], y=[], mode='lines')\n",
    "\n",
    "\n",
    "fig_progress = make_subplots(\n",
    "    rows=2,\n",
    "    cols=1,\n",
    "    shared_xaxes=True,\n",
    "    subplot_titles=[\n",
    "        \"average_log_likelihood\",\n",
    "        \"Δ average_log_likelihood\"],\n",
    "    vertical_spacing=0.1,\n",
    ")\n",
    "fig_progress.update_layout(height=800, showlegend=False)\n",
    "fig_progress.add_trace(make_empty_line_plot(), row=1, col=1)\n",
    "fig_progress.add_trace(make_empty_line_plot(), row=2, col=1)\n",
    "fig_progress.update_xaxes(title_text='iteration #')\n",
    "fig_progress.update_yaxes(\n",
    "    type=\"log\",\n",
    "    row=2,\n",
    "    col=1)\n",
    "\n",
    "\n",
    "fig_progress = go.FigureWidget(fig_progress)\n",
    "\n",
    "\n",
    "def update_progress_plot(iterations, log_likelihoods, improvements):\n",
    "    fig_progress.data[0].x = fig_progress.data[0].x + iterations\n",
    "    fig_progress.data[0].y = fig_progress.data[0].y + log_likelihoods\n",
    "    fig_progress.data[1].x = fig_progress.data[1].x + iterations\n",
    "    fig_progress.data[1].y = fig_progress.data[1].y + improvements\n",
    "    return\n"
   ]
  },
  {
   "cell_type": "code",
   "execution_count": 13,
   "metadata": {
    "ExecuteTime": {
     "end_time": "2020-05-27T22:09:20.840988Z",
     "start_time": "2020-05-27T22:09:20.821132Z"
    }
   },
   "outputs": [
    {
     "data": {
      "application/vnd.jupyter.widget-view+json": {
       "model_id": "1306dc1a460347ad874d4a95e61115f5",
       "version_major": 2,
       "version_minor": 0
      },
      "text/plain": [
       "FigureWidget({\n",
       "    'data': [{'name': 'data',\n",
       "              'type': 'histogram',\n",
       "              'uid': '62af7036…"
      ]
     },
     "metadata": {},
     "output_type": "display_data"
    }
   ],
   "source": [
    "fig"
   ]
  },
  {
   "cell_type": "code",
   "execution_count": 14,
   "metadata": {
    "ExecuteTime": {
     "end_time": "2020-05-27T22:09:20.864546Z",
     "start_time": "2020-05-27T22:09:20.853607Z"
    }
   },
   "outputs": [
    {
     "data": {
      "application/vnd.jupyter.widget-view+json": {
       "model_id": "ce2e4cf7ac274e28aaf6682a7b3d0ee7",
       "version_major": 2,
       "version_minor": 0
      },
      "text/plain": [
       "FigureWidget({\n",
       "    'data': [{'mode': 'lines',\n",
       "              'type': 'scatter',\n",
       "              'uid': '0b23426c-…"
      ]
     },
     "metadata": {},
     "output_type": "display_data"
    }
   ],
   "source": [
    "fig_progress"
   ]
  },
  {
   "cell_type": "markdown",
   "metadata": {},
   "source": [
    "# train GMM"
   ]
  },
  {
   "cell_type": "code",
   "execution_count": 15,
   "metadata": {
    "ExecuteTime": {
     "end_time": "2020-05-27T22:09:20.913192Z",
     "start_time": "2020-05-27T22:09:20.872193Z"
    }
   },
   "outputs": [],
   "source": [
    "set_oracle_plots(oracle)"
   ]
  },
  {
   "cell_type": "code",
   "execution_count": 16,
   "metadata": {
    "ExecuteTime": {
     "end_time": "2020-05-27T22:09:49.582509Z",
     "start_time": "2020-05-27T22:09:42.552175Z"
    },
    "scrolled": true
   },
   "outputs": [
    {
     "name": "stderr",
     "output_type": "stream",
     "text": [
      "DEBUG:graphical_models.gaussian_mixture.univariate.learn_em:iteration=1, improvement=1.031931e+01\n",
      "DEBUG:graphical_models.gaussian_mixture.univariate.learn_em:iteration=2, improvement=4.769650e-02\n",
      "DEBUG:graphical_models.gaussian_mixture.univariate.learn_em:iteration=3, improvement=1.337420e-02\n",
      "DEBUG:graphical_models.gaussian_mixture.univariate.learn_em:iteration=4, improvement=5.776745e-03\n",
      "DEBUG:graphical_models.gaussian_mixture.univariate.learn_em:iteration=5, improvement=4.053237e-03\n",
      "DEBUG:graphical_models.gaussian_mixture.univariate.learn_em:iteration=6, improvement=3.629810e-03\n",
      "DEBUG:graphical_models.gaussian_mixture.univariate.learn_em:iteration=7, improvement=3.417139e-03\n",
      "DEBUG:graphical_models.gaussian_mixture.univariate.learn_em:iteration=8, improvement=3.166520e-03\n",
      "DEBUG:graphical_models.gaussian_mixture.univariate.learn_em:iteration=9, improvement=2.838801e-03\n",
      "DEBUG:graphical_models.gaussian_mixture.univariate.learn_em:iteration=10, improvement=2.458930e-03\n",
      "DEBUG:graphical_models.gaussian_mixture.univariate.learn_em:iteration=11, improvement=2.073429e-03\n",
      "DEBUG:graphical_models.gaussian_mixture.univariate.learn_em:iteration=12, improvement=1.724586e-03\n",
      "DEBUG:graphical_models.gaussian_mixture.univariate.learn_em:iteration=13, improvement=1.436058e-03\n",
      "DEBUG:graphical_models.gaussian_mixture.univariate.learn_em:iteration=14, improvement=1.212229e-03\n",
      "DEBUG:graphical_models.gaussian_mixture.univariate.learn_em:iteration=15, improvement=1.045615e-03\n",
      "DEBUG:graphical_models.gaussian_mixture.univariate.learn_em:iteration=16, improvement=9.248137e-04\n",
      "DEBUG:graphical_models.gaussian_mixture.univariate.learn_em:iteration=17, improvement=8.393762e-04\n",
      "DEBUG:graphical_models.gaussian_mixture.univariate.learn_em:iteration=18, improvement=7.816377e-04\n",
      "DEBUG:graphical_models.gaussian_mixture.univariate.learn_em:iteration=19, improvement=7.468195e-04\n",
      "DEBUG:graphical_models.gaussian_mixture.univariate.learn_em:iteration=20, improvement=7.325168e-04\n",
      "DEBUG:graphical_models.gaussian_mixture.univariate.learn_em:iteration=21, improvement=7.381542e-04\n",
      "DEBUG:graphical_models.gaussian_mixture.univariate.learn_em:iteration=22, improvement=7.646219e-04\n",
      "DEBUG:graphical_models.gaussian_mixture.univariate.learn_em:iteration=23, improvement=8.141376e-04\n",
      "DEBUG:graphical_models.gaussian_mixture.univariate.learn_em:iteration=24, improvement=8.903428e-04\n",
      "DEBUG:graphical_models.gaussian_mixture.univariate.learn_em:iteration=25, improvement=9.986692e-04\n",
      "DEBUG:graphical_models.gaussian_mixture.univariate.learn_em:iteration=26, improvement=1.147102e-03\n",
      "DEBUG:graphical_models.gaussian_mixture.univariate.learn_em:iteration=27, improvement=1.347650e-03\n",
      "DEBUG:graphical_models.gaussian_mixture.univariate.learn_em:iteration=28, improvement=1.619208e-03\n",
      "DEBUG:graphical_models.gaussian_mixture.univariate.learn_em:iteration=29, improvement=1.993424e-03\n",
      "DEBUG:graphical_models.gaussian_mixture.univariate.learn_em:iteration=30, improvement=2.527520e-03\n",
      "DEBUG:graphical_models.gaussian_mixture.univariate.learn_em:iteration=31, improvement=3.335150e-03\n",
      "DEBUG:graphical_models.gaussian_mixture.univariate.learn_em:iteration=32, improvement=4.670249e-03\n",
      "DEBUG:graphical_models.gaussian_mixture.univariate.learn_em:iteration=33, improvement=7.192697e-03\n",
      "DEBUG:graphical_models.gaussian_mixture.univariate.learn_em:iteration=34, improvement=1.296657e-02\n",
      "DEBUG:graphical_models.gaussian_mixture.univariate.learn_em:iteration=35, improvement=2.950896e-02\n",
      "DEBUG:graphical_models.gaussian_mixture.univariate.learn_em:iteration=36, improvement=7.470079e-02\n",
      "DEBUG:graphical_models.gaussian_mixture.univariate.learn_em:iteration=37, improvement=5.568292e-02\n",
      "DEBUG:graphical_models.gaussian_mixture.univariate.learn_em:iteration=38, improvement=3.874562e-04\n",
      "DEBUG:graphical_models.gaussian_mixture.univariate.learn_em:iteration=39, improvement=3.758270e-05\n",
      "DEBUG:graphical_models.gaussian_mixture.univariate.learn_em:iteration=40, improvement=2.571908e-05\n",
      "DEBUG:graphical_models.gaussian_mixture.univariate.learn_em:iteration=41, improvement=2.079431e-05\n",
      "DEBUG:graphical_models.gaussian_mixture.univariate.learn_em:iteration=42, improvement=1.803237e-05\n",
      "DEBUG:graphical_models.gaussian_mixture.univariate.learn_em:iteration=43, improvement=1.634959e-05\n",
      "DEBUG:graphical_models.gaussian_mixture.univariate.learn_em:iteration=44, improvement=1.534801e-05\n",
      "DEBUG:graphical_models.gaussian_mixture.univariate.learn_em:iteration=45, improvement=1.484229e-05\n",
      "DEBUG:graphical_models.gaussian_mixture.univariate.learn_em:iteration=46, improvement=1.473440e-05\n",
      "DEBUG:graphical_models.gaussian_mixture.univariate.learn_em:iteration=47, improvement=1.497197e-05\n",
      "DEBUG:graphical_models.gaussian_mixture.univariate.learn_em:iteration=48, improvement=1.553150e-05\n",
      "DEBUG:graphical_models.gaussian_mixture.univariate.learn_em:iteration=49, improvement=1.641069e-05\n",
      "DEBUG:graphical_models.gaussian_mixture.univariate.learn_em:iteration=50, improvement=1.762532e-05\n",
      "DEBUG:graphical_models.gaussian_mixture.univariate.learn_em:iteration=51, improvement=1.920887e-05\n",
      "DEBUG:graphical_models.gaussian_mixture.univariate.learn_em:iteration=52, improvement=2.121412e-05\n",
      "DEBUG:graphical_models.gaussian_mixture.univariate.learn_em:iteration=53, improvement=2.371689e-05\n",
      "DEBUG:graphical_models.gaussian_mixture.univariate.learn_em:iteration=54, improvement=2.682199e-05\n",
      "DEBUG:graphical_models.gaussian_mixture.univariate.learn_em:iteration=55, improvement=3.067221e-05\n",
      "DEBUG:graphical_models.gaussian_mixture.univariate.learn_em:iteration=56, improvement=3.546148e-05\n",
      "DEBUG:graphical_models.gaussian_mixture.univariate.learn_em:iteration=57, improvement=4.145404e-05\n",
      "DEBUG:graphical_models.gaussian_mixture.univariate.learn_em:iteration=58, improvement=4.901252e-05\n",
      "DEBUG:graphical_models.gaussian_mixture.univariate.learn_em:iteration=59, improvement=5.863931e-05\n",
      "DEBUG:graphical_models.gaussian_mixture.univariate.learn_em:iteration=60, improvement=7.103831e-05\n",
      "DEBUG:graphical_models.gaussian_mixture.univariate.learn_em:iteration=61, improvement=8.720785e-05\n",
      "DEBUG:graphical_models.gaussian_mixture.univariate.learn_em:iteration=62, improvement=1.085818e-04\n",
      "DEBUG:graphical_models.gaussian_mixture.univariate.learn_em:iteration=63, improvement=1.372456e-04\n",
      "DEBUG:graphical_models.gaussian_mixture.univariate.learn_em:iteration=64, improvement=1.762677e-04\n",
      "DEBUG:graphical_models.gaussian_mixture.univariate.learn_em:iteration=65, improvement=2.302052e-04\n",
      "DEBUG:graphical_models.gaussian_mixture.univariate.learn_em:iteration=66, improvement=3.058601e-04\n",
      "DEBUG:graphical_models.gaussian_mixture.univariate.learn_em:iteration=67, improvement=4.133563e-04\n",
      "DEBUG:graphical_models.gaussian_mixture.univariate.learn_em:iteration=68, improvement=5.675004e-04\n",
      "DEBUG:graphical_models.gaussian_mixture.univariate.learn_em:iteration=69, improvement=7.889825e-04\n",
      "DEBUG:graphical_models.gaussian_mixture.univariate.learn_em:iteration=70, improvement=1.103797e-03\n",
      "DEBUG:graphical_models.gaussian_mixture.univariate.learn_em:iteration=71, improvement=1.536601e-03\n",
      "DEBUG:graphical_models.gaussian_mixture.univariate.learn_em:iteration=72, improvement=2.089784e-03\n",
      "DEBUG:graphical_models.gaussian_mixture.univariate.learn_em:iteration=73, improvement=2.700857e-03\n",
      "DEBUG:graphical_models.gaussian_mixture.univariate.learn_em:iteration=74, improvement=3.196045e-03\n",
      "DEBUG:graphical_models.gaussian_mixture.univariate.learn_em:iteration=75, improvement=3.318853e-03\n",
      "DEBUG:graphical_models.gaussian_mixture.univariate.learn_em:iteration=76, improvement=2.913583e-03\n",
      "DEBUG:graphical_models.gaussian_mixture.univariate.learn_em:iteration=77, improvement=2.123596e-03\n",
      "DEBUG:graphical_models.gaussian_mixture.univariate.learn_em:iteration=78, improvement=1.299671e-03\n",
      "DEBUG:graphical_models.gaussian_mixture.univariate.learn_em:iteration=79, improvement=6.961562e-04\n",
      "DEBUG:graphical_models.gaussian_mixture.univariate.learn_em:iteration=80, improvement=3.483913e-04\n",
      "DEBUG:graphical_models.gaussian_mixture.univariate.learn_em:iteration=81, improvement=1.768783e-04\n",
      "DEBUG:graphical_models.gaussian_mixture.univariate.learn_em:iteration=82, improvement=9.941472e-05\n",
      "DEBUG:graphical_models.gaussian_mixture.univariate.learn_em:iteration=83, improvement=6.580802e-05\n"
     ]
    },
    {
     "name": "stderr",
     "output_type": "stream",
     "text": [
      "DEBUG:graphical_models.gaussian_mixture.univariate.learn_em:iteration=84, improvement=5.161193e-05\n",
      "DEBUG:graphical_models.gaussian_mixture.univariate.learn_em:iteration=85, improvement=4.617080e-05\n",
      "DEBUG:graphical_models.gaussian_mixture.univariate.learn_em:iteration=86, improvement=4.504938e-05\n",
      "DEBUG:graphical_models.gaussian_mixture.univariate.learn_em:iteration=87, improvement=4.641312e-05\n",
      "DEBUG:graphical_models.gaussian_mixture.univariate.learn_em:iteration=88, improvement=4.949667e-05\n",
      "DEBUG:graphical_models.gaussian_mixture.univariate.learn_em:iteration=89, improvement=5.398701e-05\n",
      "DEBUG:graphical_models.gaussian_mixture.univariate.learn_em:iteration=90, improvement=5.977495e-05\n",
      "DEBUG:graphical_models.gaussian_mixture.univariate.learn_em:iteration=91, improvement=6.684958e-05\n",
      "DEBUG:graphical_models.gaussian_mixture.univariate.learn_em:iteration=92, improvement=7.524730e-05\n",
      "DEBUG:graphical_models.gaussian_mixture.univariate.learn_em:iteration=93, improvement=8.502109e-05\n",
      "DEBUG:graphical_models.gaussian_mixture.univariate.learn_em:iteration=94, improvement=9.621597e-05\n",
      "DEBUG:graphical_models.gaussian_mixture.univariate.learn_em:iteration=95, improvement=1.088452e-04\n",
      "DEBUG:graphical_models.gaussian_mixture.univariate.learn_em:iteration=96, improvement=1.228651e-04\n",
      "DEBUG:graphical_models.gaussian_mixture.univariate.learn_em:iteration=97, improvement=1.381490e-04\n",
      "DEBUG:graphical_models.gaussian_mixture.univariate.learn_em:iteration=98, improvement=1.544643e-04\n",
      "DEBUG:graphical_models.gaussian_mixture.univariate.learn_em:iteration=99, improvement=1.714555e-04\n",
      "DEBUG:graphical_models.gaussian_mixture.univariate.learn_em:iteration=100, improvement=1.886431e-04\n",
      "DEBUG:graphical_models.gaussian_mixture.univariate.learn_em:iteration=101, improvement=2.054419e-04\n",
      "DEBUG:graphical_models.gaussian_mixture.univariate.learn_em:iteration=102, improvement=2.212041e-04\n",
      "DEBUG:graphical_models.gaussian_mixture.univariate.learn_em:iteration=103, improvement=2.352833e-04\n",
      "DEBUG:graphical_models.gaussian_mixture.univariate.learn_em:iteration=104, improvement=2.471116e-04\n",
      "DEBUG:graphical_models.gaussian_mixture.univariate.learn_em:iteration=105, improvement=2.562717e-04\n",
      "DEBUG:graphical_models.gaussian_mixture.univariate.learn_em:iteration=106, improvement=2.625483e-04\n",
      "DEBUG:graphical_models.gaussian_mixture.univariate.learn_em:iteration=107, improvement=2.659463e-04\n",
      "DEBUG:graphical_models.gaussian_mixture.univariate.learn_em:iteration=108, improvement=2.666737e-04\n",
      "DEBUG:graphical_models.gaussian_mixture.univariate.learn_em:iteration=109, improvement=2.650950e-04\n",
      "DEBUG:graphical_models.gaussian_mixture.univariate.learn_em:iteration=110, improvement=2.616716e-04\n",
      "DEBUG:graphical_models.gaussian_mixture.univariate.learn_em:iteration=111, improvement=2.569006e-04\n",
      "DEBUG:graphical_models.gaussian_mixture.univariate.learn_em:iteration=112, improvement=2.512658e-04\n",
      "DEBUG:graphical_models.gaussian_mixture.univariate.learn_em:iteration=113, improvement=2.452031e-04\n",
      "DEBUG:graphical_models.gaussian_mixture.univariate.learn_em:iteration=114, improvement=2.390833e-04\n",
      "DEBUG:graphical_models.gaussian_mixture.univariate.learn_em:iteration=115, improvement=2.332067e-04\n",
      "DEBUG:graphical_models.gaussian_mixture.univariate.learn_em:iteration=116, improvement=2.278083e-04\n",
      "DEBUG:graphical_models.gaussian_mixture.univariate.learn_em:iteration=117, improvement=2.230668e-04\n",
      "DEBUG:graphical_models.gaussian_mixture.univariate.learn_em:iteration=118, improvement=2.191169e-04\n",
      "DEBUG:graphical_models.gaussian_mixture.univariate.learn_em:iteration=119, improvement=2.160613e-04\n",
      "DEBUG:graphical_models.gaussian_mixture.univariate.learn_em:iteration=120, improvement=2.139820e-04\n",
      "DEBUG:graphical_models.gaussian_mixture.univariate.learn_em:iteration=121, improvement=2.129493e-04\n",
      "DEBUG:graphical_models.gaussian_mixture.univariate.learn_em:iteration=122, improvement=2.130305e-04\n",
      "DEBUG:graphical_models.gaussian_mixture.univariate.learn_em:iteration=123, improvement=2.142953e-04\n",
      "DEBUG:graphical_models.gaussian_mixture.univariate.learn_em:iteration=124, improvement=2.168210e-04\n",
      "DEBUG:graphical_models.gaussian_mixture.univariate.learn_em:iteration=125, improvement=2.206961e-04\n",
      "DEBUG:graphical_models.gaussian_mixture.univariate.learn_em:iteration=126, improvement=2.260227e-04\n",
      "DEBUG:graphical_models.gaussian_mixture.univariate.learn_em:iteration=127, improvement=2.329188e-04\n",
      "DEBUG:graphical_models.gaussian_mixture.univariate.learn_em:iteration=128, improvement=2.415188e-04\n",
      "DEBUG:graphical_models.gaussian_mixture.univariate.learn_em:iteration=129, improvement=2.519750e-04\n",
      "DEBUG:graphical_models.gaussian_mixture.univariate.learn_em:iteration=130, improvement=2.644573e-04\n",
      "DEBUG:graphical_models.gaussian_mixture.univariate.learn_em:iteration=131, improvement=2.791541e-04\n",
      "DEBUG:graphical_models.gaussian_mixture.univariate.learn_em:iteration=132, improvement=2.962707e-04\n",
      "DEBUG:graphical_models.gaussian_mixture.univariate.learn_em:iteration=133, improvement=3.160289e-04\n",
      "DEBUG:graphical_models.gaussian_mixture.univariate.learn_em:iteration=134, improvement=3.386631e-04\n",
      "DEBUG:graphical_models.gaussian_mixture.univariate.learn_em:iteration=135, improvement=3.644154e-04\n",
      "DEBUG:graphical_models.gaussian_mixture.univariate.learn_em:iteration=136, improvement=3.935246e-04\n",
      "DEBUG:graphical_models.gaussian_mixture.univariate.learn_em:iteration=137, improvement=4.262084e-04\n",
      "DEBUG:graphical_models.gaussian_mixture.univariate.learn_em:iteration=138, improvement=4.626351e-04\n",
      "DEBUG:graphical_models.gaussian_mixture.univariate.learn_em:iteration=139, improvement=5.028791e-04\n",
      "DEBUG:graphical_models.gaussian_mixture.univariate.learn_em:iteration=140, improvement=5.468554e-04\n",
      "DEBUG:graphical_models.gaussian_mixture.univariate.learn_em:iteration=141, improvement=5.942297e-04\n",
      "DEBUG:graphical_models.gaussian_mixture.univariate.learn_em:iteration=142, improvement=6.443021e-04\n",
      "DEBUG:graphical_models.gaussian_mixture.univariate.learn_em:iteration=143, improvement=6.958727e-04\n",
      "DEBUG:graphical_models.gaussian_mixture.univariate.learn_em:iteration=144, improvement=7.471122e-04\n",
      "DEBUG:graphical_models.gaussian_mixture.univariate.learn_em:iteration=145, improvement=7.954869e-04\n",
      "DEBUG:graphical_models.gaussian_mixture.univariate.learn_em:iteration=146, improvement=8.378090e-04\n",
      "DEBUG:graphical_models.gaussian_mixture.univariate.learn_em:iteration=147, improvement=8.704955e-04\n",
      "DEBUG:graphical_models.gaussian_mixture.univariate.learn_em:iteration=148, improvement=8.900822e-04\n",
      "DEBUG:graphical_models.gaussian_mixture.univariate.learn_em:iteration=149, improvement=8.939551e-04\n",
      "DEBUG:graphical_models.gaussian_mixture.univariate.learn_em:iteration=150, improvement=8.811229e-04\n",
      "DEBUG:graphical_models.gaussian_mixture.univariate.learn_em:iteration=151, improvement=8.527345e-04\n",
      "DEBUG:graphical_models.gaussian_mixture.univariate.learn_em:iteration=152, improvement=8.120387e-04\n",
      "DEBUG:graphical_models.gaussian_mixture.univariate.learn_em:iteration=153, improvement=7.636698e-04\n",
      "DEBUG:graphical_models.gaussian_mixture.univariate.learn_em:iteration=154, improvement=7.124754e-04\n",
      "DEBUG:graphical_models.gaussian_mixture.univariate.learn_em:iteration=155, improvement=6.623605e-04\n",
      "DEBUG:graphical_models.gaussian_mixture.univariate.learn_em:iteration=156, improvement=6.155946e-04\n",
      "DEBUG:graphical_models.gaussian_mixture.univariate.learn_em:iteration=157, improvement=5.727473e-04\n",
      "DEBUG:graphical_models.gaussian_mixture.univariate.learn_em:iteration=158, improvement=5.331070e-04\n",
      "DEBUG:graphical_models.gaussian_mixture.univariate.learn_em:iteration=159, improvement=4.953037e-04\n",
      "DEBUG:graphical_models.gaussian_mixture.univariate.learn_em:iteration=160, improvement=4.578947e-04\n",
      "DEBUG:graphical_models.gaussian_mixture.univariate.learn_em:iteration=161, improvement=4.197884e-04\n",
      "DEBUG:graphical_models.gaussian_mixture.univariate.learn_em:iteration=162, improvement=3.804731e-04\n",
      "DEBUG:graphical_models.gaussian_mixture.univariate.learn_em:iteration=163, improvement=3.400671e-04\n",
      "DEBUG:graphical_models.gaussian_mixture.univariate.learn_em:iteration=164, improvement=2.992269e-04\n",
      "DEBUG:graphical_models.gaussian_mixture.univariate.learn_em:iteration=165, improvement=2.589600e-04\n",
      "DEBUG:graphical_models.gaussian_mixture.univariate.learn_em:iteration=166, improvement=2.203967e-04\n"
     ]
    },
    {
     "name": "stderr",
     "output_type": "stream",
     "text": [
      "DEBUG:graphical_models.gaussian_mixture.univariate.learn_em:iteration=167, improvement=1.845750e-04\n",
      "DEBUG:graphical_models.gaussian_mixture.univariate.learn_em:iteration=168, improvement=1.522825e-04\n",
      "DEBUG:graphical_models.gaussian_mixture.univariate.learn_em:iteration=169, improvement=1.239781e-04\n",
      "DEBUG:graphical_models.gaussian_mixture.univariate.learn_em:iteration=170, improvement=9.979024e-05\n",
      "DEBUG:graphical_models.gaussian_mixture.univariate.learn_em:iteration=171, improvement=7.957228e-05\n",
      "DEBUG:graphical_models.gaussian_mixture.univariate.learn_em:iteration=172, improvement=6.298497e-05\n",
      "DEBUG:graphical_models.gaussian_mixture.univariate.learn_em:iteration=173, improvement=4.958186e-05\n",
      "DEBUG:graphical_models.gaussian_mixture.univariate.learn_em:iteration=174, improvement=3.888065e-05\n",
      "DEBUG:graphical_models.gaussian_mixture.univariate.learn_em:iteration=175, improvement=3.041365e-05\n",
      "DEBUG:graphical_models.gaussian_mixture.univariate.learn_em:iteration=176, improvement=2.375795e-05\n",
      "DEBUG:graphical_models.gaussian_mixture.univariate.learn_em:iteration=177, improvement=1.854911e-05\n",
      "DEBUG:graphical_models.gaussian_mixture.univariate.learn_em:iteration=178, improvement=1.448367e-05\n",
      "DEBUG:graphical_models.gaussian_mixture.univariate.learn_em:iteration=179, improvement=1.131514e-05\n",
      "DEBUG:graphical_models.gaussian_mixture.univariate.learn_em:iteration=180, improvement=8.846763e-06\n",
      "DEBUG:graphical_models.gaussian_mixture.univariate.learn_em:iteration=181, improvement=6.923404e-06\n",
      "DEBUG:graphical_models.gaussian_mixture.univariate.learn_em:iteration=182, improvement=5.423715e-06\n",
      "DEBUG:graphical_models.gaussian_mixture.univariate.learn_em:iteration=183, improvement=4.253267e-06\n",
      "DEBUG:graphical_models.gaussian_mixture.univariate.learn_em:iteration=184, improvement=3.338788e-06\n",
      "DEBUG:graphical_models.gaussian_mixture.univariate.learn_em:iteration=185, improvement=2.623486e-06\n",
      "DEBUG:graphical_models.gaussian_mixture.univariate.learn_em:iteration=186, improvement=2.063348e-06\n",
      "DEBUG:graphical_models.gaussian_mixture.univariate.learn_em:iteration=187, improvement=1.624241e-06\n",
      "DEBUG:graphical_models.gaussian_mixture.univariate.learn_em:iteration=188, improvement=1.279663e-06\n",
      "DEBUG:graphical_models.gaussian_mixture.univariate.learn_em:iteration=189, improvement=1.009011e-06\n",
      "DEBUG:graphical_models.gaussian_mixture.univariate.learn_em:iteration=190, improvement=7.962388e-07\n",
      "DEBUG:graphical_models.gaussian_mixture.univariate.learn_em:iteration=191, improvement=6.288351e-07\n",
      "DEBUG:graphical_models.gaussian_mixture.univariate.learn_em:iteration=192, improvement=4.970281e-07\n",
      "DEBUG:graphical_models.gaussian_mixture.univariate.learn_em:iteration=193, improvement=3.931764e-07\n",
      "DEBUG:graphical_models.gaussian_mixture.univariate.learn_em:iteration=194, improvement=3.112967e-07\n",
      "DEBUG:graphical_models.gaussian_mixture.univariate.learn_em:iteration=195, improvement=2.466992e-07\n",
      "DEBUG:graphical_models.gaussian_mixture.univariate.learn_em:iteration=196, improvement=1.957041e-07\n",
      "DEBUG:graphical_models.gaussian_mixture.univariate.learn_em:iteration=197, improvement=1.554217e-07\n",
      "DEBUG:graphical_models.gaussian_mixture.univariate.learn_em:iteration=198, improvement=1.235809e-07\n",
      "DEBUG:graphical_models.gaussian_mixture.univariate.learn_em:iteration=199, improvement=9.839567e-08\n",
      "DEBUG:graphical_models.gaussian_mixture.univariate.learn_em:iteration=200, improvement=7.846042e-08\n",
      "DEBUG:graphical_models.gaussian_mixture.univariate.learn_em:iteration=201, improvement=6.266851e-08\n",
      "DEBUG:graphical_models.gaussian_mixture.univariate.learn_em:iteration=202, improvement=5.014819e-08\n",
      "DEBUG:graphical_models.gaussian_mixture.univariate.learn_em:iteration=203, improvement=4.021240e-08\n",
      "DEBUG:graphical_models.gaussian_mixture.univariate.learn_em:iteration=204, improvement=3.231945e-08\n",
      "DEBUG:graphical_models.gaussian_mixture.univariate.learn_em:iteration=205, improvement=2.604207e-08\n",
      "DEBUG:graphical_models.gaussian_mixture.univariate.learn_em:iteration=206, improvement=2.104312e-08\n",
      "DEBUG:graphical_models.gaussian_mixture.univariate.learn_em:iteration=207, improvement=1.705647e-08\n",
      "DEBUG:graphical_models.gaussian_mixture.univariate.learn_em:iteration=208, improvement=1.387196e-08\n",
      "DEBUG:graphical_models.gaussian_mixture.univariate.learn_em:iteration=209, improvement=1.132357e-08\n",
      "DEBUG:graphical_models.gaussian_mixture.univariate.learn_em:iteration=210, improvement=9.280087e-09\n"
     ]
    }
   ],
   "source": [
    "gmm_learned = learn_em(x, k, oracle, max_iter=1e10)\n"
   ]
  },
  {
   "cell_type": "code",
   "execution_count": null,
   "metadata": {
    "ExecuteTime": {
     "end_time": "2020-05-27T22:05:49.127982Z",
     "start_time": "2020-05-27T22:05:49.109166Z"
    }
   },
   "outputs": [],
   "source": [
    "print(\"done. learned gaussian mixture:\")\n",
    "print(gmm_learned)\n",
    "\n",
    "print(\"and the 'oracle' (truth) was:\")\n",
    "print(oracle)"
   ]
  },
  {
   "cell_type": "code",
   "execution_count": null,
   "metadata": {},
   "outputs": [],
   "source": []
  },
  {
   "cell_type": "code",
   "execution_count": null,
   "metadata": {},
   "outputs": [],
   "source": []
  },
  {
   "cell_type": "code",
   "execution_count": null,
   "metadata": {},
   "outputs": [],
   "source": []
  },
  {
   "cell_type": "code",
   "execution_count": null,
   "metadata": {},
   "outputs": [],
   "source": []
  },
  {
   "cell_type": "code",
   "execution_count": null,
   "metadata": {},
   "outputs": [],
   "source": []
  },
  {
   "cell_type": "code",
   "execution_count": null,
   "metadata": {},
   "outputs": [],
   "source": []
  },
  {
   "cell_type": "code",
   "execution_count": null,
   "metadata": {},
   "outputs": [],
   "source": []
  },
  {
   "cell_type": "code",
   "execution_count": null,
   "metadata": {},
   "outputs": [],
   "source": []
  },
  {
   "cell_type": "code",
   "execution_count": null,
   "metadata": {},
   "outputs": [],
   "source": []
  },
  {
   "cell_type": "code",
   "execution_count": null,
   "metadata": {},
   "outputs": [],
   "source": []
  },
  {
   "cell_type": "code",
   "execution_count": null,
   "metadata": {},
   "outputs": [],
   "source": []
  },
  {
   "cell_type": "code",
   "execution_count": null,
   "metadata": {},
   "outputs": [],
   "source": []
  },
  {
   "cell_type": "code",
   "execution_count": null,
   "metadata": {},
   "outputs": [],
   "source": []
  },
  {
   "cell_type": "code",
   "execution_count": null,
   "metadata": {},
   "outputs": [],
   "source": []
  },
  {
   "cell_type": "code",
   "execution_count": null,
   "metadata": {},
   "outputs": [],
   "source": []
  },
  {
   "cell_type": "code",
   "execution_count": null,
   "metadata": {},
   "outputs": [],
   "source": []
  },
  {
   "cell_type": "code",
   "execution_count": null,
   "metadata": {},
   "outputs": [],
   "source": []
  }
 ],
 "metadata": {
  "kernelspec": {
   "display_name": "Python 3",
   "language": "python",
   "name": "python3"
  },
  "language_info": {
   "codemirror_mode": {
    "name": "ipython",
    "version": 3
   },
   "file_extension": ".py",
   "mimetype": "text/x-python",
   "name": "python",
   "nbconvert_exporter": "python",
   "pygments_lexer": "ipython3",
   "version": "3.8.1"
  },
  "toc": {
   "base_numbering": 1,
   "nav_menu": {},
   "number_sections": true,
   "sideBar": true,
   "skip_h1_title": false,
   "title_cell": "Table of Contents",
   "title_sidebar": "Contents",
   "toc_cell": false,
   "toc_position": {},
   "toc_section_display": true,
   "toc_window_display": false
  },
  "varInspector": {
   "cols": {
    "lenName": 16,
    "lenType": 16,
    "lenVar": 40
   },
   "kernels_config": {
    "python": {
     "delete_cmd_postfix": "",
     "delete_cmd_prefix": "del ",
     "library": "var_list.py",
     "varRefreshCmd": "print(var_dic_list())"
    },
    "r": {
     "delete_cmd_postfix": ") ",
     "delete_cmd_prefix": "rm(",
     "library": "var_list.r",
     "varRefreshCmd": "cat(var_dic_list()) "
    }
   },
   "types_to_exclude": [
    "module",
    "function",
    "builtin_function_or_method",
    "instance",
    "_Feature"
   ],
   "window_display": false
  }
 },
 "nbformat": 4,
 "nbformat_minor": 4
}
