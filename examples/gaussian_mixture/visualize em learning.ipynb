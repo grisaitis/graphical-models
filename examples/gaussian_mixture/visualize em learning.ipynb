{
 "cells": [
  {
   "cell_type": "code",
   "execution_count": 1,
   "metadata": {
    "ExecuteTime": {
     "end_time": "2020-05-28T19:34:31.106880Z",
     "start_time": "2020-05-28T19:34:30.525232Z"
    }
   },
   "outputs": [],
   "source": [
    "import json\n",
    "import logging\n",
    "\n",
    "import numpy as np\n",
    "\n",
    "from graphical_models.gaussian_mixture.univariate import (\n",
    "    UnivariateGaussianMixture,\n",
    "    learn_em,\n",
    ")\n"
   ]
  },
  {
   "cell_type": "markdown",
   "metadata": {},
   "source": [
    "# setup"
   ]
  },
  {
   "cell_type": "markdown",
   "metadata": {},
   "source": [
    "## logging"
   ]
  },
  {
   "cell_type": "code",
   "execution_count": 2,
   "metadata": {
    "ExecuteTime": {
     "end_time": "2020-05-28T19:34:31.129874Z",
     "start_time": "2020-05-28T19:34:31.110724Z"
    }
   },
   "outputs": [],
   "source": [
    "class UnivariateGaussianMixtureHandler(logging.Handler):\n",
    "    def emit(self, record):\n",
    "#         print(record.data[\"improvement\"])\n",
    "        if record.data[\"iteration\"] == 1:\n",
    "            self._previous_value = -1e100\n",
    "            self._iterations = ()\n",
    "            self._likelihoods = ()\n",
    "            self._improvements = ()\n",
    "        self._iterations = self._iterations + (record.data[\"iteration\"],)\n",
    "        self._likelihoods = self._likelihoods + (record.data[\"average_log_likelihood\"],)\n",
    "        self._improvements = self._improvements + (record.data[\"improvement\"],)\n",
    "        improvement_since_last = record.data[\"average_log_likelihood\"] - self._previous_value\n",
    "        ignore = improvement_since_last < 0.01\n",
    "        ignore = ignore and not record.data[\"is_done\"]\n",
    "        ignore = ignore and not len(self._iterations) > 100\n",
    "        if ignore:\n",
    "            return\n",
    "        update_learned_gmm_plots(record.data[\"gaussian_mixture\"])\n",
    "        update_progress_plot(\n",
    "            self._iterations,\n",
    "            self._likelihoods,\n",
    "            self._improvements)\n",
    "        # reset history\n",
    "        self._previous_value = record.data[\"average_log_likelihood\"]\n",
    "        self._iterations = ()\n",
    "        self._likelihoods = ()\n",
    "        self._improvements = ()\n",
    "        return\n",
    "\n",
    "\n",
    "logging.basicConfig(level='DEBUG')\n",
    "logging.getLogger(\"graphical_models.gaussian_mixture.univariate\").addHandler(UnivariateGaussianMixtureHandler())\n",
    "logger = logging.getLogger(__name__)\n"
   ]
  },
  {
   "cell_type": "code",
   "execution_count": 3,
   "metadata": {
    "ExecuteTime": {
     "end_time": "2020-05-28T19:34:31.162698Z",
     "start_time": "2020-05-28T19:34:31.135208Z"
    }
   },
   "outputs": [
    {
     "data": {
      "text/plain": [
       "[<StreamHandler stderr (NOTSET)>]"
      ]
     },
     "execution_count": 3,
     "metadata": {},
     "output_type": "execute_result"
    }
   ],
   "source": [
    "logging.getLogger().handlers"
   ]
  },
  {
   "cell_type": "code",
   "execution_count": 4,
   "metadata": {
    "ExecuteTime": {
     "end_time": "2020-05-28T19:34:31.186042Z",
     "start_time": "2020-05-28T19:34:31.174212Z"
    }
   },
   "outputs": [
    {
     "data": {
      "text/plain": [
       "[<UnivariateGaussianMixtureHandler (NOTSET)>]"
      ]
     },
     "execution_count": 4,
     "metadata": {},
     "output_type": "execute_result"
    }
   ],
   "source": [
    "logging.getLogger(\"graphical_models.gaussian_mixture.univariate\").handlers"
   ]
  },
  {
   "cell_type": "code",
   "execution_count": 5,
   "metadata": {
    "ExecuteTime": {
     "end_time": "2020-05-28T19:34:31.241864Z",
     "start_time": "2020-05-28T19:34:31.194606Z"
    }
   },
   "outputs": [
    {
     "data": {
      "text/plain": [
       "[]"
      ]
     },
     "execution_count": 5,
     "metadata": {},
     "output_type": "execute_result"
    }
   ],
   "source": [
    "logging.getLogger(__name__).handlers"
   ]
  },
  {
   "cell_type": "markdown",
   "metadata": {},
   "source": [
    "## data"
   ]
  },
  {
   "cell_type": "code",
   "execution_count": 6,
   "metadata": {
    "ExecuteTime": {
     "end_time": "2020-05-28T19:34:31.252113Z",
     "start_time": "2020-05-28T19:34:31.245687Z"
    }
   },
   "outputs": [],
   "source": [
    "np.set_printoptions(suppress=True)\n",
    "np_rng = np.random.default_rng(seed=0)\n"
   ]
  },
  {
   "cell_type": "code",
   "execution_count": 7,
   "metadata": {
    "ExecuteTime": {
     "end_time": "2020-05-28T19:34:31.273738Z",
     "start_time": "2020-05-28T19:34:31.257953Z"
    }
   },
   "outputs": [
    {
     "name": "stderr",
     "output_type": "stream",
     "text": [
      "INFO:__main__:oracle: GaussianMixture(\n",
      "\tweights=array([0.14860343, 0.18611145, 0.10829077, 0.24313792, 0.09936389,\n",
      "       0.10357373, 0.03698758, 0.07393123]),\n",
      "\tlocs=array([-2.72129491, -1.58150078,  2.05815268,  5.21256685, -0.64267331,\n",
      "        6.83231735, -3.32597337,  1.75755035]),\n",
      "\tscales=array([0.90347018, 0.0940123 , 0.74349925, 0.92172538, 0.45772583,\n",
      "       0.22019512, 1.00961818, 0.20917557])\n",
      ")\n"
     ]
    }
   ],
   "source": [
    "k = 8\n",
    "alpha_dirichlet = np.ones(shape=(k,)) * 5\n",
    "weights = np_rng.dirichlet(alpha=alpha_dirichlet)\n",
    "locs = np_rng.normal(size=(k,)) * 5\n",
    "scales = np.abs(np_rng.normal(size=(k,)))\n",
    "oracle = UnivariateGaussianMixture(weights, locs, scales)\n",
    "\n",
    "logger.info(\"oracle: %s\", oracle)"
   ]
  },
  {
   "cell_type": "code",
   "execution_count": 8,
   "metadata": {
    "ExecuteTime": {
     "end_time": "2020-05-28T19:34:31.399176Z",
     "start_time": "2020-05-28T19:34:31.321810Z"
    }
   },
   "outputs": [],
   "source": [
    "x = oracle.sample(seed=1, n=10_000)\n"
   ]
  },
  {
   "cell_type": "markdown",
   "metadata": {},
   "source": [
    "# figure"
   ]
  },
  {
   "cell_type": "code",
   "execution_count": 9,
   "metadata": {
    "ExecuteTime": {
     "end_time": "2020-05-28T19:34:32.274875Z",
     "start_time": "2020-05-28T19:34:31.425867Z"
    }
   },
   "outputs": [],
   "source": [
    "import plotly.express as px\n",
    "import plotly.graph_objects as go\n",
    "from plotly.subplots import make_subplots\n"
   ]
  },
  {
   "cell_type": "code",
   "execution_count": 10,
   "metadata": {
    "ExecuteTime": {
     "end_time": "2020-05-28T19:34:32.302649Z",
     "start_time": "2020-05-28T19:34:32.281133Z"
    }
   },
   "outputs": [],
   "source": [
    "x_axis_min_and_max = (min(x), max(x))"
   ]
  },
  {
   "cell_type": "code",
   "execution_count": 11,
   "metadata": {
    "ExecuteTime": {
     "end_time": "2020-05-28T19:34:32.364287Z",
     "start_time": "2020-05-28T19:34:32.318737Z"
    }
   },
   "outputs": [],
   "source": [
    "data_hist = go.Histogram(\n",
    "    name='data',\n",
    "    x=x,\n",
    "#     nbinsx=nbinsx,\n",
    "#     histnorm='probability'\n",
    ")\n",
    "\n",
    "def make_empty_gmm_pointwise_plot(name):\n",
    "    return go.Scatter(\n",
    "        name=name,\n",
    "        x=[],\n",
    "        y=[],\n",
    "        mode='markers',\n",
    "        error_x=dict(\n",
    "            type='data',\n",
    "            array=[],\n",
    "            thickness=1,\n",
    "        ),\n",
    "        marker=dict(\n",
    "            size=10,\n",
    "            color=px.colors.qualitative.Plotly,\n",
    "            symbol='circle',\n",
    "            line=dict(\n",
    "                color='black',\n",
    "                width=3\n",
    "            )\n",
    "    ))\n",
    "\n",
    "def make_empty_gmm_density_plot(name):\n",
    "    x_values = np.linspace(*x_axis_min_and_max, num=101)\n",
    "    y_values = np.zeros_like(x_values)\n",
    "    return go.Scatter(\n",
    "        name=name,\n",
    "        x=x_values,\n",
    "        y=y_values,\n",
    "        mode='lines',\n",
    "        line_shape='spline',\n",
    "    )\n",
    "    \n"
   ]
  },
  {
   "cell_type": "code",
   "execution_count": 18,
   "metadata": {
    "ExecuteTime": {
     "end_time": "2020-05-28T19:38:08.208042Z",
     "start_time": "2020-05-28T19:38:07.561658Z"
    }
   },
   "outputs": [],
   "source": [
    "fig = make_subplots(\n",
    "    rows=4,\n",
    "    cols=1,\n",
    "    shared_xaxes=True,\n",
    "    subplot_titles=[\n",
    "        \"data\",\n",
    "        \"generative gaussian mixture (complete density)\",\n",
    "        \"learned gaussian mixture (complete density)\",\n",
    "        \"learned gaussian mixture (individual components)\",\n",
    "    ],\n",
    "    vertical_spacing=0.05,\n",
    "\n",
    ")\n",
    "fig.update_layout(height=1000, title_text=\"gaussian mixture learning\")\n",
    "# fig.update_layout(legend=dict(x=1, y=1))\n",
    "fig.update_layout(showlegend=False)\n",
    "fig.add_trace(data_hist, row=1, col=1)\n",
    "fig.add_trace(make_empty_gmm_density_plot('generative gmm'), row=2, col=1)\n",
    "fig.add_trace(make_empty_gmm_density_plot('learned gmm'), row=3, col=1)\n",
    "fig.add_trace(make_empty_gmm_pointwise_plot('learned gmm (point-wise)'), row=4, col=1)\n",
    "fig.update_xaxes(range=x_axis_min_and_max)\n",
    "fig.update_yaxes(\n",
    "    title_text=\"density\",\n",
    "#     range=[-2, 0],\n",
    "#     type=\"log\",\n",
    "    row=2,\n",
    "    col=1)\n",
    "fig.update_yaxes(\n",
    "    title_text=\"mixture weights\",\n",
    "    range=[-3, 0],\n",
    "    type=\"log\",\n",
    "    row=4,\n",
    "    col=1)\n",
    "\n",
    "fig = go.FigureWidget(fig)\n",
    "\n",
    "\n",
    "def update_gmm_pointwise_plot(gmm, trace):\n",
    "    fig.data[trace].x = gmm.locs\n",
    "    fig.data[trace].y = gmm.weights\n",
    "    fig.data[trace].error_x.array = gmm.scales\n",
    "    return\n",
    "\n",
    "\n",
    "def update_gmm_density_plot(gmm, trace):\n",
    "    x_values = fig.data[trace].x\n",
    "    y_values = gmm.pdf(x_values)\n",
    "    fig.data[trace].y = y_values\n",
    "    return\n",
    "\n",
    "\n",
    "def set_oracle_plots(gmm):\n",
    "    update_gmm_density_plot(gmm, trace=1)\n",
    "#     update_gmm_pointwise_plot(gmm, trace=1)\n",
    "    return\n",
    "\n",
    "\n",
    "def update_learned_gmm_plots(gmm):\n",
    "    update_gmm_density_plot(gmm, trace=2)\n",
    "    update_gmm_pointwise_plot(gmm, trace=3)\n",
    "    return\n",
    "\n"
   ]
  },
  {
   "cell_type": "code",
   "execution_count": 25,
   "metadata": {
    "ExecuteTime": {
     "end_time": "2020-05-28T19:39:25.597205Z",
     "start_time": "2020-05-28T19:39:24.959761Z"
    }
   },
   "outputs": [],
   "source": [
    "def make_empty_line_plot():\n",
    "    return go.Scatter(x=[], y=[], mode='lines')\n",
    "\n",
    "\n",
    "fig_progress = make_subplots(\n",
    "    rows=2,\n",
    "    cols=1,\n",
    "    shared_xaxes=True,\n",
    "    subplot_titles=[\n",
    "        \"average_log_likelihood\",\n",
    "        \"average_log_likelihood improvement per iteration\"],\n",
    "    vertical_spacing=0.12,\n",
    ")\n",
    "fig_progress.update_layout(height=600, showlegend=False)\n",
    "fig_progress.add_trace(make_empty_line_plot(), row=1, col=1)\n",
    "fig_progress.add_trace(make_empty_line_plot(), row=2, col=1)\n",
    "fig_progress.update_xaxes(title_text='iteration #')\n",
    "fig_progress.update_yaxes(\n",
    "    type=\"log\",\n",
    "    row=2,\n",
    "    col=1)\n",
    "\n",
    "\n",
    "fig_progress = go.FigureWidget(fig_progress)\n",
    "\n",
    "\n",
    "def update_progress_plot(iterations, log_likelihoods, improvements):\n",
    "    fig_progress.data[0].x = fig_progress.data[0].x + iterations\n",
    "    fig_progress.data[0].y = fig_progress.data[0].y + log_likelihoods\n",
    "    fig_progress.data[1].x = fig_progress.data[1].x + iterations\n",
    "    fig_progress.data[1].y = fig_progress.data[1].y + improvements\n",
    "    return\n"
   ]
  },
  {
   "cell_type": "code",
   "execution_count": 26,
   "metadata": {
    "ExecuteTime": {
     "end_time": "2020-05-28T19:39:26.312371Z",
     "start_time": "2020-05-28T19:39:26.251286Z"
    }
   },
   "outputs": [
    {
     "data": {
      "application/vnd.jupyter.widget-view+json": {
       "model_id": "3393467405a2439b9f0b85d9c00a63e5",
       "version_major": 2,
       "version_minor": 0
      },
      "text/plain": [
       "FigureWidget({\n",
       "    'data': [{'name': 'data',\n",
       "              'type': 'histogram',\n",
       "              'uid': 'cbb754e8…"
      ]
     },
     "metadata": {},
     "output_type": "display_data"
    }
   ],
   "source": [
    "fig"
   ]
  },
  {
   "cell_type": "code",
   "execution_count": 27,
   "metadata": {
    "ExecuteTime": {
     "end_time": "2020-05-28T19:39:26.915132Z",
     "start_time": "2020-05-28T19:39:26.903763Z"
    }
   },
   "outputs": [
    {
     "data": {
      "application/vnd.jupyter.widget-view+json": {
       "model_id": "e1838414c8e44a06bd4c1e88b03be927",
       "version_major": 2,
       "version_minor": 0
      },
      "text/plain": [
       "FigureWidget({\n",
       "    'data': [{'mode': 'lines',\n",
       "              'type': 'scatter',\n",
       "              'uid': '2cf46787-…"
      ]
     },
     "metadata": {},
     "output_type": "display_data"
    }
   ],
   "source": [
    "fig_progress"
   ]
  },
  {
   "cell_type": "code",
   "execution_count": 28,
   "metadata": {
    "ExecuteTime": {
     "end_time": "2020-05-28T19:39:27.673104Z",
     "start_time": "2020-05-28T19:39:27.657816Z"
    }
   },
   "outputs": [],
   "source": [
    "set_oracle_plots(oracle)"
   ]
  },
  {
   "cell_type": "markdown",
   "metadata": {},
   "source": [
    "# train GMM"
   ]
  },
  {
   "cell_type": "code",
   "execution_count": 29,
   "metadata": {
    "ExecuteTime": {
     "end_time": "2020-05-28T19:40:25.871915Z",
     "start_time": "2020-05-28T19:40:14.290716Z"
    },
    "scrolled": true
   },
   "outputs": [
    {
     "name": "stderr",
     "output_type": "stream",
     "text": [
      "DEBUG:graphical_models.gaussian_mixture.univariate.learn_em:iteration=1, improvement=5.616820e+00\n",
      "DEBUG:graphical_models.gaussian_mixture.univariate.learn_em:iteration=2, improvement=4.209689e-02\n",
      "DEBUG:graphical_models.gaussian_mixture.univariate.learn_em:iteration=3, improvement=2.155189e-02\n",
      "DEBUG:graphical_models.gaussian_mixture.univariate.learn_em:iteration=4, improvement=1.571697e-02\n",
      "DEBUG:graphical_models.gaussian_mixture.univariate.learn_em:iteration=5, improvement=1.469269e-02\n",
      "DEBUG:graphical_models.gaussian_mixture.univariate.learn_em:iteration=6, improvement=1.456203e-02\n",
      "DEBUG:graphical_models.gaussian_mixture.univariate.learn_em:iteration=7, improvement=1.572185e-02\n",
      "DEBUG:graphical_models.gaussian_mixture.univariate.learn_em:iteration=8, improvement=1.885965e-02\n",
      "DEBUG:graphical_models.gaussian_mixture.univariate.learn_em:iteration=9, improvement=2.377293e-02\n",
      "DEBUG:graphical_models.gaussian_mixture.univariate.learn_em:iteration=10, improvement=2.897693e-02\n",
      "DEBUG:graphical_models.gaussian_mixture.univariate.learn_em:iteration=11, improvement=2.950711e-02\n",
      "DEBUG:graphical_models.gaussian_mixture.univariate.learn_em:iteration=12, improvement=2.117844e-02\n",
      "DEBUG:graphical_models.gaussian_mixture.univariate.learn_em:iteration=13, improvement=1.078626e-02\n",
      "DEBUG:graphical_models.gaussian_mixture.univariate.learn_em:iteration=14, improvement=4.287733e-03\n",
      "DEBUG:graphical_models.gaussian_mixture.univariate.learn_em:iteration=15, improvement=1.745888e-03\n",
      "DEBUG:graphical_models.gaussian_mixture.univariate.learn_em:iteration=16, improvement=9.881231e-04\n",
      "DEBUG:graphical_models.gaussian_mixture.univariate.learn_em:iteration=17, improvement=7.728655e-04\n",
      "DEBUG:graphical_models.gaussian_mixture.univariate.learn_em:iteration=18, improvement=7.187202e-04\n",
      "DEBUG:graphical_models.gaussian_mixture.univariate.learn_em:iteration=19, improvement=7.245304e-04\n",
      "DEBUG:graphical_models.gaussian_mixture.univariate.learn_em:iteration=20, improvement=7.619510e-04\n",
      "DEBUG:graphical_models.gaussian_mixture.univariate.learn_em:iteration=21, improvement=8.228140e-04\n",
      "DEBUG:graphical_models.gaussian_mixture.univariate.learn_em:iteration=22, improvement=9.067594e-04\n",
      "DEBUG:graphical_models.gaussian_mixture.univariate.learn_em:iteration=23, improvement=1.019272e-03\n",
      "DEBUG:graphical_models.gaussian_mixture.univariate.learn_em:iteration=24, improvement=1.173465e-03\n",
      "DEBUG:graphical_models.gaussian_mixture.univariate.learn_em:iteration=25, improvement=1.394281e-03\n",
      "DEBUG:graphical_models.gaussian_mixture.univariate.learn_em:iteration=26, improvement=1.724234e-03\n",
      "DEBUG:graphical_models.gaussian_mixture.univariate.learn_em:iteration=27, improvement=2.227352e-03\n",
      "DEBUG:graphical_models.gaussian_mixture.univariate.learn_em:iteration=28, improvement=2.978775e-03\n",
      "DEBUG:graphical_models.gaussian_mixture.univariate.learn_em:iteration=29, improvement=4.001338e-03\n",
      "DEBUG:graphical_models.gaussian_mixture.univariate.learn_em:iteration=30, improvement=5.083599e-03\n",
      "DEBUG:graphical_models.gaussian_mixture.univariate.learn_em:iteration=31, improvement=5.583779e-03\n",
      "DEBUG:graphical_models.gaussian_mixture.univariate.learn_em:iteration=32, improvement=4.870079e-03\n",
      "DEBUG:graphical_models.gaussian_mixture.univariate.learn_em:iteration=33, improvement=3.352423e-03\n",
      "DEBUG:graphical_models.gaussian_mixture.univariate.learn_em:iteration=34, improvement=2.010809e-03\n",
      "DEBUG:graphical_models.gaussian_mixture.univariate.learn_em:iteration=35, improvement=1.185279e-03\n",
      "DEBUG:graphical_models.gaussian_mixture.univariate.learn_em:iteration=36, improvement=7.394237e-04\n",
      "DEBUG:graphical_models.gaussian_mixture.univariate.learn_em:iteration=37, improvement=5.044569e-04\n",
      "DEBUG:graphical_models.gaussian_mixture.univariate.learn_em:iteration=38, improvement=3.791202e-04\n",
      "DEBUG:graphical_models.gaussian_mixture.univariate.learn_em:iteration=39, improvement=3.102238e-04\n",
      "DEBUG:graphical_models.gaussian_mixture.univariate.learn_em:iteration=40, improvement=2.699266e-04\n",
      "DEBUG:graphical_models.gaussian_mixture.univariate.learn_em:iteration=41, improvement=2.433314e-04\n",
      "DEBUG:graphical_models.gaussian_mixture.univariate.learn_em:iteration=42, improvement=2.225728e-04\n",
      "DEBUG:graphical_models.gaussian_mixture.univariate.learn_em:iteration=43, improvement=2.040157e-04\n",
      "DEBUG:graphical_models.gaussian_mixture.univariate.learn_em:iteration=44, improvement=1.867189e-04\n",
      "DEBUG:graphical_models.gaussian_mixture.univariate.learn_em:iteration=45, improvement=1.713126e-04\n",
      "DEBUG:graphical_models.gaussian_mixture.univariate.learn_em:iteration=46, improvement=1.590729e-04\n",
      "DEBUG:graphical_models.gaussian_mixture.univariate.learn_em:iteration=47, improvement=1.512804e-04\n",
      "DEBUG:graphical_models.gaussian_mixture.univariate.learn_em:iteration=48, improvement=1.489521e-04\n",
      "DEBUG:graphical_models.gaussian_mixture.univariate.learn_em:iteration=49, improvement=1.528988e-04\n",
      "DEBUG:graphical_models.gaussian_mixture.univariate.learn_em:iteration=50, improvement=1.639778e-04\n",
      "DEBUG:graphical_models.gaussian_mixture.univariate.learn_em:iteration=51, improvement=1.834195e-04\n",
      "DEBUG:graphical_models.gaussian_mixture.univariate.learn_em:iteration=52, improvement=2.131704e-04\n",
      "DEBUG:graphical_models.gaussian_mixture.univariate.learn_em:iteration=53, improvement=2.562318e-04\n",
      "DEBUG:graphical_models.gaussian_mixture.univariate.learn_em:iteration=54, improvement=3.169349e-04\n",
      "DEBUG:graphical_models.gaussian_mixture.univariate.learn_em:iteration=55, improvement=4.009465e-04\n",
      "DEBUG:graphical_models.gaussian_mixture.univariate.learn_em:iteration=56, improvement=5.144625e-04\n",
      "DEBUG:graphical_models.gaussian_mixture.univariate.learn_em:iteration=57, improvement=6.615775e-04\n",
      "DEBUG:graphical_models.gaussian_mixture.univariate.learn_em:iteration=58, improvement=8.387662e-04\n",
      "DEBUG:graphical_models.gaussian_mixture.univariate.learn_em:iteration=59, improvement=1.027567e-03\n",
      "DEBUG:graphical_models.gaussian_mixture.univariate.learn_em:iteration=60, improvement=1.192635e-03\n",
      "DEBUG:graphical_models.gaussian_mixture.univariate.learn_em:iteration=61, improvement=1.296209e-03\n",
      "DEBUG:graphical_models.gaussian_mixture.univariate.learn_em:iteration=62, improvement=1.324381e-03\n",
      "DEBUG:graphical_models.gaussian_mixture.univariate.learn_em:iteration=63, improvement=1.294990e-03\n",
      "DEBUG:graphical_models.gaussian_mixture.univariate.learn_em:iteration=64, improvement=1.235172e-03\n",
      "DEBUG:graphical_models.gaussian_mixture.univariate.learn_em:iteration=65, improvement=1.160031e-03\n",
      "DEBUG:graphical_models.gaussian_mixture.univariate.learn_em:iteration=66, improvement=1.073224e-03\n",
      "DEBUG:graphical_models.gaussian_mixture.univariate.learn_em:iteration=67, improvement=9.768473e-04\n",
      "DEBUG:graphical_models.gaussian_mixture.univariate.learn_em:iteration=68, improvement=8.767312e-04\n",
      "DEBUG:graphical_models.gaussian_mixture.univariate.learn_em:iteration=69, improvement=7.812229e-04\n",
      "DEBUG:graphical_models.gaussian_mixture.univariate.learn_em:iteration=70, improvement=6.970724e-04\n",
      "DEBUG:graphical_models.gaussian_mixture.univariate.learn_em:iteration=71, improvement=6.264827e-04\n",
      "DEBUG:graphical_models.gaussian_mixture.univariate.learn_em:iteration=72, improvement=5.672386e-04\n",
      "DEBUG:graphical_models.gaussian_mixture.univariate.learn_em:iteration=73, improvement=5.150673e-04\n",
      "DEBUG:graphical_models.gaussian_mixture.univariate.learn_em:iteration=74, improvement=4.661821e-04\n",
      "DEBUG:graphical_models.gaussian_mixture.univariate.learn_em:iteration=75, improvement=4.186349e-04\n",
      "DEBUG:graphical_models.gaussian_mixture.univariate.learn_em:iteration=76, improvement=3.723246e-04\n",
      "DEBUG:graphical_models.gaussian_mixture.univariate.learn_em:iteration=77, improvement=3.282380e-04\n",
      "DEBUG:graphical_models.gaussian_mixture.univariate.learn_em:iteration=78, improvement=2.875859e-04\n",
      "DEBUG:graphical_models.gaussian_mixture.univariate.learn_em:iteration=79, improvement=2.512330e-04\n",
      "DEBUG:graphical_models.gaussian_mixture.univariate.learn_em:iteration=80, improvement=2.194988e-04\n",
      "DEBUG:graphical_models.gaussian_mixture.univariate.learn_em:iteration=81, improvement=1.922244e-04\n",
      "DEBUG:graphical_models.gaussian_mixture.univariate.learn_em:iteration=82, improvement=1.689496e-04\n",
      "DEBUG:graphical_models.gaussian_mixture.univariate.learn_em:iteration=83, improvement=1.490911e-04\n"
     ]
    },
    {
     "name": "stderr",
     "output_type": "stream",
     "text": [
      "DEBUG:graphical_models.gaussian_mixture.univariate.learn_em:iteration=84, improvement=1.320704e-04\n",
      "DEBUG:graphical_models.gaussian_mixture.univariate.learn_em:iteration=85, improvement=1.173822e-04\n",
      "DEBUG:graphical_models.gaussian_mixture.univariate.learn_em:iteration=86, improvement=1.046185e-04\n",
      "DEBUG:graphical_models.gaussian_mixture.univariate.learn_em:iteration=87, improvement=9.346453e-05\n",
      "DEBUG:graphical_models.gaussian_mixture.univariate.learn_em:iteration=88, improvement=8.368202e-05\n",
      "DEBUG:graphical_models.gaussian_mixture.univariate.learn_em:iteration=89, improvement=7.509003e-05\n",
      "DEBUG:graphical_models.gaussian_mixture.univariate.learn_em:iteration=90, improvement=6.754725e-05\n",
      "DEBUG:graphical_models.gaussian_mixture.univariate.learn_em:iteration=91, improvement=6.093855e-05\n",
      "DEBUG:graphical_models.gaussian_mixture.univariate.learn_em:iteration=92, improvement=5.516562e-05\n",
      "DEBUG:graphical_models.gaussian_mixture.univariate.learn_em:iteration=93, improvement=5.014100e-05\n",
      "DEBUG:graphical_models.gaussian_mixture.univariate.learn_em:iteration=94, improvement=4.578472e-05\n",
      "DEBUG:graphical_models.gaussian_mixture.univariate.learn_em:iteration=95, improvement=4.202257e-05\n",
      "DEBUG:graphical_models.gaussian_mixture.univariate.learn_em:iteration=96, improvement=3.878543e-05\n",
      "DEBUG:graphical_models.gaussian_mixture.univariate.learn_em:iteration=97, improvement=3.600909e-05\n",
      "DEBUG:graphical_models.gaussian_mixture.univariate.learn_em:iteration=98, improvement=3.363429e-05\n",
      "DEBUG:graphical_models.gaussian_mixture.univariate.learn_em:iteration=99, improvement=3.160686e-05\n",
      "DEBUG:graphical_models.gaussian_mixture.univariate.learn_em:iteration=100, improvement=2.987772e-05\n",
      "DEBUG:graphical_models.gaussian_mixture.univariate.learn_em:iteration=101, improvement=2.840282e-05\n",
      "DEBUG:graphical_models.gaussian_mixture.univariate.learn_em:iteration=102, improvement=2.714303e-05\n",
      "DEBUG:graphical_models.gaussian_mixture.univariate.learn_em:iteration=103, improvement=2.606382e-05\n",
      "DEBUG:graphical_models.gaussian_mixture.univariate.learn_em:iteration=104, improvement=2.513502e-05\n",
      "DEBUG:graphical_models.gaussian_mixture.univariate.learn_em:iteration=105, improvement=2.433045e-05\n",
      "DEBUG:graphical_models.gaussian_mixture.univariate.learn_em:iteration=106, improvement=2.362759e-05\n",
      "DEBUG:graphical_models.gaussian_mixture.univariate.learn_em:iteration=107, improvement=2.300715e-05\n",
      "DEBUG:graphical_models.gaussian_mixture.univariate.learn_em:iteration=108, improvement=2.245279e-05\n",
      "DEBUG:graphical_models.gaussian_mixture.univariate.learn_em:iteration=109, improvement=2.195074e-05\n",
      "DEBUG:graphical_models.gaussian_mixture.univariate.learn_em:iteration=110, improvement=2.148951e-05\n",
      "DEBUG:graphical_models.gaussian_mixture.univariate.learn_em:iteration=111, improvement=2.105959e-05\n",
      "DEBUG:graphical_models.gaussian_mixture.univariate.learn_em:iteration=112, improvement=2.065318e-05\n",
      "DEBUG:graphical_models.gaussian_mixture.univariate.learn_em:iteration=113, improvement=2.026401e-05\n",
      "DEBUG:graphical_models.gaussian_mixture.univariate.learn_em:iteration=114, improvement=1.988708e-05\n",
      "DEBUG:graphical_models.gaussian_mixture.univariate.learn_em:iteration=115, improvement=1.951850e-05\n",
      "DEBUG:graphical_models.gaussian_mixture.univariate.learn_em:iteration=116, improvement=1.915533e-05\n",
      "DEBUG:graphical_models.gaussian_mixture.univariate.learn_em:iteration=117, improvement=1.879545e-05\n",
      "DEBUG:graphical_models.gaussian_mixture.univariate.learn_em:iteration=118, improvement=1.843741e-05\n",
      "DEBUG:graphical_models.gaussian_mixture.univariate.learn_em:iteration=119, improvement=1.808033e-05\n",
      "DEBUG:graphical_models.gaussian_mixture.univariate.learn_em:iteration=120, improvement=1.772382e-05\n",
      "DEBUG:graphical_models.gaussian_mixture.univariate.learn_em:iteration=121, improvement=1.736786e-05\n",
      "DEBUG:graphical_models.gaussian_mixture.univariate.learn_em:iteration=122, improvement=1.701278e-05\n",
      "DEBUG:graphical_models.gaussian_mixture.univariate.learn_em:iteration=123, improvement=1.665912e-05\n",
      "DEBUG:graphical_models.gaussian_mixture.univariate.learn_em:iteration=124, improvement=1.630766e-05\n",
      "DEBUG:graphical_models.gaussian_mixture.univariate.learn_em:iteration=125, improvement=1.595930e-05\n",
      "DEBUG:graphical_models.gaussian_mixture.univariate.learn_em:iteration=126, improvement=1.561506e-05\n",
      "DEBUG:graphical_models.gaussian_mixture.univariate.learn_em:iteration=127, improvement=1.527599e-05\n",
      "DEBUG:graphical_models.gaussian_mixture.univariate.learn_em:iteration=128, improvement=1.494324e-05\n",
      "DEBUG:graphical_models.gaussian_mixture.univariate.learn_em:iteration=129, improvement=1.461792e-05\n",
      "DEBUG:graphical_models.gaussian_mixture.univariate.learn_em:iteration=130, improvement=1.430116e-05\n",
      "DEBUG:graphical_models.gaussian_mixture.univariate.learn_em:iteration=131, improvement=1.399405e-05\n",
      "DEBUG:graphical_models.gaussian_mixture.univariate.learn_em:iteration=132, improvement=1.369766e-05\n",
      "DEBUG:graphical_models.gaussian_mixture.univariate.learn_em:iteration=133, improvement=1.341301e-05\n",
      "DEBUG:graphical_models.gaussian_mixture.univariate.learn_em:iteration=134, improvement=1.314107e-05\n",
      "DEBUG:graphical_models.gaussian_mixture.univariate.learn_em:iteration=135, improvement=1.288275e-05\n",
      "DEBUG:graphical_models.gaussian_mixture.univariate.learn_em:iteration=136, improvement=1.263892e-05\n",
      "DEBUG:graphical_models.gaussian_mixture.univariate.learn_em:iteration=137, improvement=1.241039e-05\n",
      "DEBUG:graphical_models.gaussian_mixture.univariate.learn_em:iteration=138, improvement=1.219793e-05\n",
      "DEBUG:graphical_models.gaussian_mixture.univariate.learn_em:iteration=139, improvement=1.200226e-05\n",
      "DEBUG:graphical_models.gaussian_mixture.univariate.learn_em:iteration=140, improvement=1.182408e-05\n",
      "DEBUG:graphical_models.gaussian_mixture.univariate.learn_em:iteration=141, improvement=1.166403e-05\n",
      "DEBUG:graphical_models.gaussian_mixture.univariate.learn_em:iteration=142, improvement=1.152276e-05\n",
      "DEBUG:graphical_models.gaussian_mixture.univariate.learn_em:iteration=143, improvement=1.140088e-05\n",
      "DEBUG:graphical_models.gaussian_mixture.univariate.learn_em:iteration=144, improvement=1.129903e-05\n",
      "DEBUG:graphical_models.gaussian_mixture.univariate.learn_em:iteration=145, improvement=1.121783e-05\n",
      "DEBUG:graphical_models.gaussian_mixture.univariate.learn_em:iteration=146, improvement=1.115793e-05\n",
      "DEBUG:graphical_models.gaussian_mixture.univariate.learn_em:iteration=147, improvement=1.112000e-05\n",
      "DEBUG:graphical_models.gaussian_mixture.univariate.learn_em:iteration=148, improvement=1.110475e-05\n",
      "DEBUG:graphical_models.gaussian_mixture.univariate.learn_em:iteration=149, improvement=1.111295e-05\n",
      "DEBUG:graphical_models.gaussian_mixture.univariate.learn_em:iteration=150, improvement=1.114542e-05\n",
      "DEBUG:graphical_models.gaussian_mixture.univariate.learn_em:iteration=151, improvement=1.120306e-05\n",
      "DEBUG:graphical_models.gaussian_mixture.univariate.learn_em:iteration=152, improvement=1.128686e-05\n",
      "DEBUG:graphical_models.gaussian_mixture.univariate.learn_em:iteration=153, improvement=1.139793e-05\n",
      "DEBUG:graphical_models.gaussian_mixture.univariate.learn_em:iteration=154, improvement=1.153747e-05\n",
      "DEBUG:graphical_models.gaussian_mixture.univariate.learn_em:iteration=155, improvement=1.170685e-05\n",
      "DEBUG:graphical_models.gaussian_mixture.univariate.learn_em:iteration=156, improvement=1.190759e-05\n",
      "DEBUG:graphical_models.gaussian_mixture.univariate.learn_em:iteration=157, improvement=1.214137e-05\n",
      "DEBUG:graphical_models.gaussian_mixture.univariate.learn_em:iteration=158, improvement=1.241011e-05\n",
      "DEBUG:graphical_models.gaussian_mixture.univariate.learn_em:iteration=159, improvement=1.271594e-05\n",
      "DEBUG:graphical_models.gaussian_mixture.univariate.learn_em:iteration=160, improvement=1.306127e-05\n",
      "DEBUG:graphical_models.gaussian_mixture.univariate.learn_em:iteration=161, improvement=1.344879e-05\n",
      "DEBUG:graphical_models.gaussian_mixture.univariate.learn_em:iteration=162, improvement=1.388156e-05\n",
      "DEBUG:graphical_models.gaussian_mixture.univariate.learn_em:iteration=163, improvement=1.436302e-05\n",
      "DEBUG:graphical_models.gaussian_mixture.univariate.learn_em:iteration=164, improvement=1.489706e-05\n",
      "DEBUG:graphical_models.gaussian_mixture.univariate.learn_em:iteration=165, improvement=1.548806e-05\n",
      "DEBUG:graphical_models.gaussian_mixture.univariate.learn_em:iteration=166, improvement=1.614103e-05\n"
     ]
    },
    {
     "name": "stderr",
     "output_type": "stream",
     "text": [
      "DEBUG:graphical_models.gaussian_mixture.univariate.learn_em:iteration=167, improvement=1.686161e-05\n",
      "DEBUG:graphical_models.gaussian_mixture.univariate.learn_em:iteration=168, improvement=1.765626e-05\n",
      "DEBUG:graphical_models.gaussian_mixture.univariate.learn_em:iteration=169, improvement=1.853231e-05\n",
      "DEBUG:graphical_models.gaussian_mixture.univariate.learn_em:iteration=170, improvement=1.949815e-05\n",
      "DEBUG:graphical_models.gaussian_mixture.univariate.learn_em:iteration=171, improvement=2.056336e-05\n",
      "DEBUG:graphical_models.gaussian_mixture.univariate.learn_em:iteration=172, improvement=2.173898e-05\n",
      "DEBUG:graphical_models.gaussian_mixture.univariate.learn_em:iteration=173, improvement=2.303765e-05\n",
      "DEBUG:graphical_models.gaussian_mixture.univariate.learn_em:iteration=174, improvement=2.447399e-05\n",
      "DEBUG:graphical_models.gaussian_mixture.univariate.learn_em:iteration=175, improvement=2.606489e-05\n",
      "DEBUG:graphical_models.gaussian_mixture.univariate.learn_em:iteration=176, improvement=2.782992e-05\n",
      "DEBUG:graphical_models.gaussian_mixture.univariate.learn_em:iteration=177, improvement=2.979187e-05\n",
      "DEBUG:graphical_models.gaussian_mixture.univariate.learn_em:iteration=178, improvement=3.197729e-05\n",
      "DEBUG:graphical_models.gaussian_mixture.univariate.learn_em:iteration=179, improvement=3.441725e-05\n",
      "DEBUG:graphical_models.gaussian_mixture.univariate.learn_em:iteration=180, improvement=3.714823e-05\n",
      "DEBUG:graphical_models.gaussian_mixture.univariate.learn_em:iteration=181, improvement=4.021314e-05\n",
      "DEBUG:graphical_models.gaussian_mixture.univariate.learn_em:iteration=182, improvement=4.366271e-05\n",
      "DEBUG:graphical_models.gaussian_mixture.univariate.learn_em:iteration=183, improvement=4.755705e-05\n",
      "DEBUG:graphical_models.gaussian_mixture.univariate.learn_em:iteration=184, improvement=5.196764e-05\n",
      "DEBUG:graphical_models.gaussian_mixture.univariate.learn_em:iteration=185, improvement=5.697979e-05\n",
      "DEBUG:graphical_models.gaussian_mixture.univariate.learn_em:iteration=186, improvement=6.269567e-05\n",
      "DEBUG:graphical_models.gaussian_mixture.univariate.learn_em:iteration=187, improvement=6.923802e-05\n",
      "DEBUG:graphical_models.gaussian_mixture.univariate.learn_em:iteration=188, improvement=7.675487e-05\n",
      "DEBUG:graphical_models.gaussian_mixture.univariate.learn_em:iteration=189, improvement=8.542532e-05\n",
      "DEBUG:graphical_models.gaussian_mixture.univariate.learn_em:iteration=190, improvement=9.546676e-05\n",
      "DEBUG:graphical_models.gaussian_mixture.univariate.learn_em:iteration=191, improvement=1.071439e-04\n",
      "DEBUG:graphical_models.gaussian_mixture.univariate.learn_em:iteration=192, improvement=1.207802e-04\n",
      "DEBUG:graphical_models.gaussian_mixture.univariate.learn_em:iteration=193, improvement=1.367718e-04\n",
      "DEBUG:graphical_models.gaussian_mixture.univariate.learn_em:iteration=194, improvement=1.556053e-04\n",
      "DEBUG:graphical_models.gaussian_mixture.univariate.learn_em:iteration=195, improvement=1.778797e-04\n",
      "DEBUG:graphical_models.gaussian_mixture.univariate.learn_em:iteration=196, improvement=2.043344e-04\n",
      "DEBUG:graphical_models.gaussian_mixture.univariate.learn_em:iteration=197, improvement=2.358831e-04\n",
      "DEBUG:graphical_models.gaussian_mixture.univariate.learn_em:iteration=198, improvement=2.736574e-04\n",
      "DEBUG:graphical_models.gaussian_mixture.univariate.learn_em:iteration=199, improvement=3.190594e-04\n",
      "DEBUG:graphical_models.gaussian_mixture.univariate.learn_em:iteration=200, improvement=3.738283e-04\n",
      "DEBUG:graphical_models.gaussian_mixture.univariate.learn_em:iteration=201, improvement=4.401202e-04\n",
      "DEBUG:graphical_models.gaussian_mixture.univariate.learn_em:iteration=202, improvement=5.206021e-04\n",
      "DEBUG:graphical_models.gaussian_mixture.univariate.learn_em:iteration=203, improvement=6.185562e-04\n",
      "DEBUG:graphical_models.gaussian_mixture.univariate.learn_em:iteration=204, improvement=7.379782e-04\n",
      "DEBUG:graphical_models.gaussian_mixture.univariate.learn_em:iteration=205, improvement=8.836346e-04\n",
      "DEBUG:graphical_models.gaussian_mixture.univariate.learn_em:iteration=206, improvement=1.061009e-03\n",
      "DEBUG:graphical_models.gaussian_mixture.univariate.learn_em:iteration=207, improvement=1.276010e-03\n",
      "DEBUG:graphical_models.gaussian_mixture.univariate.learn_em:iteration=208, improvement=1.534243e-03\n",
      "DEBUG:graphical_models.gaussian_mixture.univariate.learn_em:iteration=209, improvement=1.839570e-03\n",
      "DEBUG:graphical_models.gaussian_mixture.univariate.learn_em:iteration=210, improvement=2.191575e-03\n",
      "DEBUG:graphical_models.gaussian_mixture.univariate.learn_em:iteration=211, improvement=2.581568e-03\n",
      "DEBUG:graphical_models.gaussian_mixture.univariate.learn_em:iteration=212, improvement=2.987071e-03\n",
      "DEBUG:graphical_models.gaussian_mixture.univariate.learn_em:iteration=213, improvement=3.366322e-03\n",
      "DEBUG:graphical_models.gaussian_mixture.univariate.learn_em:iteration=214, improvement=3.657476e-03\n",
      "DEBUG:graphical_models.gaussian_mixture.univariate.learn_em:iteration=215, improvement=3.786994e-03\n",
      "DEBUG:graphical_models.gaussian_mixture.univariate.learn_em:iteration=216, improvement=3.684393e-03\n",
      "DEBUG:graphical_models.gaussian_mixture.univariate.learn_em:iteration=217, improvement=3.307097e-03\n",
      "DEBUG:graphical_models.gaussian_mixture.univariate.learn_em:iteration=218, improvement=2.687819e-03\n",
      "DEBUG:graphical_models.gaussian_mixture.univariate.learn_em:iteration=219, improvement=1.962301e-03\n",
      "DEBUG:graphical_models.gaussian_mixture.univariate.learn_em:iteration=220, improvement=1.305296e-03\n",
      "DEBUG:graphical_models.gaussian_mixture.univariate.learn_em:iteration=221, improvement=8.158647e-04\n",
      "DEBUG:graphical_models.gaussian_mixture.univariate.learn_em:iteration=222, improvement=4.936450e-04\n",
      "DEBUG:graphical_models.gaussian_mixture.univariate.learn_em:iteration=223, improvement=2.954603e-04\n",
      "DEBUG:graphical_models.gaussian_mixture.univariate.learn_em:iteration=224, improvement=1.778162e-04\n",
      "DEBUG:graphical_models.gaussian_mixture.univariate.learn_em:iteration=225, improvement=1.091779e-04\n",
      "DEBUG:graphical_models.gaussian_mixture.univariate.learn_em:iteration=226, improvement=6.937160e-05\n",
      "DEBUG:graphical_models.gaussian_mixture.univariate.learn_em:iteration=227, improvement=4.623882e-05\n",
      "DEBUG:graphical_models.gaussian_mixture.univariate.learn_em:iteration=228, improvement=3.267683e-05\n",
      "DEBUG:graphical_models.gaussian_mixture.univariate.learn_em:iteration=229, improvement=2.460459e-05\n",
      "DEBUG:graphical_models.gaussian_mixture.univariate.learn_em:iteration=230, improvement=1.969590e-05\n",
      "DEBUG:graphical_models.gaussian_mixture.univariate.learn_em:iteration=231, improvement=1.662786e-05\n",
      "DEBUG:graphical_models.gaussian_mixture.univariate.learn_em:iteration=232, improvement=1.464653e-05\n",
      "DEBUG:graphical_models.gaussian_mixture.univariate.learn_em:iteration=233, improvement=1.331960e-05\n",
      "DEBUG:graphical_models.gaussian_mixture.univariate.learn_em:iteration=234, improvement=1.239665e-05\n",
      "DEBUG:graphical_models.gaussian_mixture.univariate.learn_em:iteration=235, improvement=1.173056e-05\n",
      "DEBUG:graphical_models.gaussian_mixture.univariate.learn_em:iteration=236, improvement=1.123324e-05\n",
      "DEBUG:graphical_models.gaussian_mixture.univariate.learn_em:iteration=237, improvement=1.085074e-05\n",
      "DEBUG:graphical_models.gaussian_mixture.univariate.learn_em:iteration=238, improvement=1.054913e-05\n",
      "DEBUG:graphical_models.gaussian_mixture.univariate.learn_em:iteration=239, improvement=1.030648e-05\n",
      "DEBUG:graphical_models.gaussian_mixture.univariate.learn_em:iteration=240, improvement=1.010822e-05\n",
      "DEBUG:graphical_models.gaussian_mixture.univariate.learn_em:iteration=241, improvement=9.944441e-06\n",
      "DEBUG:graphical_models.gaussian_mixture.univariate.learn_em:iteration=242, improvement=9.808286e-06\n",
      "DEBUG:graphical_models.gaussian_mixture.univariate.learn_em:iteration=243, improvement=9.694978e-06\n",
      "DEBUG:graphical_models.gaussian_mixture.univariate.learn_em:iteration=244, improvement=9.601198e-06\n",
      "DEBUG:graphical_models.gaussian_mixture.univariate.learn_em:iteration=245, improvement=9.524693e-06\n",
      "DEBUG:graphical_models.gaussian_mixture.univariate.learn_em:iteration=246, improvement=9.463999e-06\n",
      "DEBUG:graphical_models.gaussian_mixture.univariate.learn_em:iteration=247, improvement=9.418263e-06\n",
      "DEBUG:graphical_models.gaussian_mixture.univariate.learn_em:iteration=248, improvement=9.387099e-06\n"
     ]
    },
    {
     "name": "stderr",
     "output_type": "stream",
     "text": [
      "DEBUG:graphical_models.gaussian_mixture.univariate.learn_em:iteration=249, improvement=9.370496e-06\n",
      "DEBUG:graphical_models.gaussian_mixture.univariate.learn_em:iteration=250, improvement=9.368738e-06\n",
      "DEBUG:graphical_models.gaussian_mixture.univariate.learn_em:iteration=251, improvement=9.382346e-06\n",
      "DEBUG:graphical_models.gaussian_mixture.univariate.learn_em:iteration=252, improvement=9.412036e-06\n",
      "DEBUG:graphical_models.gaussian_mixture.univariate.learn_em:iteration=253, improvement=9.458689e-06\n",
      "DEBUG:graphical_models.gaussian_mixture.univariate.learn_em:iteration=254, improvement=9.523322e-06\n",
      "DEBUG:graphical_models.gaussian_mixture.univariate.learn_em:iteration=255, improvement=9.607077e-06\n",
      "DEBUG:graphical_models.gaussian_mixture.univariate.learn_em:iteration=256, improvement=9.711207e-06\n",
      "DEBUG:graphical_models.gaussian_mixture.univariate.learn_em:iteration=257, improvement=9.837076e-06\n",
      "DEBUG:graphical_models.gaussian_mixture.univariate.learn_em:iteration=258, improvement=9.986160e-06\n",
      "DEBUG:graphical_models.gaussian_mixture.univariate.learn_em:iteration=259, improvement=1.016005e-05\n",
      "DEBUG:graphical_models.gaussian_mixture.univariate.learn_em:iteration=260, improvement=1.036046e-05\n",
      "DEBUG:graphical_models.gaussian_mixture.univariate.learn_em:iteration=261, improvement=1.058924e-05\n",
      "DEBUG:graphical_models.gaussian_mixture.univariate.learn_em:iteration=262, improvement=1.084841e-05\n",
      "DEBUG:graphical_models.gaussian_mixture.univariate.learn_em:iteration=263, improvement=1.114014e-05\n",
      "DEBUG:graphical_models.gaussian_mixture.univariate.learn_em:iteration=264, improvement=1.146681e-05\n",
      "DEBUG:graphical_models.gaussian_mixture.univariate.learn_em:iteration=265, improvement=1.183103e-05\n",
      "DEBUG:graphical_models.gaussian_mixture.univariate.learn_em:iteration=266, improvement=1.223562e-05\n",
      "DEBUG:graphical_models.gaussian_mixture.univariate.learn_em:iteration=267, improvement=1.268370e-05\n",
      "DEBUG:graphical_models.gaussian_mixture.univariate.learn_em:iteration=268, improvement=1.317871e-05\n",
      "DEBUG:graphical_models.gaussian_mixture.univariate.learn_em:iteration=269, improvement=1.372439e-05\n",
      "DEBUG:graphical_models.gaussian_mixture.univariate.learn_em:iteration=270, improvement=1.432489e-05\n",
      "DEBUG:graphical_models.gaussian_mixture.univariate.learn_em:iteration=271, improvement=1.498475e-05\n",
      "DEBUG:graphical_models.gaussian_mixture.univariate.learn_em:iteration=272, improvement=1.570901e-05\n",
      "DEBUG:graphical_models.gaussian_mixture.univariate.learn_em:iteration=273, improvement=1.650316e-05\n",
      "DEBUG:graphical_models.gaussian_mixture.univariate.learn_em:iteration=274, improvement=1.737327e-05\n",
      "DEBUG:graphical_models.gaussian_mixture.univariate.learn_em:iteration=275, improvement=1.832602e-05\n",
      "DEBUG:graphical_models.gaussian_mixture.univariate.learn_em:iteration=276, improvement=1.936872e-05\n",
      "DEBUG:graphical_models.gaussian_mixture.univariate.learn_em:iteration=277, improvement=2.050940e-05\n",
      "DEBUG:graphical_models.gaussian_mixture.univariate.learn_em:iteration=278, improvement=2.175685e-05\n",
      "DEBUG:graphical_models.gaussian_mixture.univariate.learn_em:iteration=279, improvement=2.312069e-05\n",
      "DEBUG:graphical_models.gaussian_mixture.univariate.learn_em:iteration=280, improvement=2.461140e-05\n",
      "DEBUG:graphical_models.gaussian_mixture.univariate.learn_em:iteration=281, improvement=2.624039e-05\n",
      "DEBUG:graphical_models.gaussian_mixture.univariate.learn_em:iteration=282, improvement=2.802004e-05\n",
      "DEBUG:graphical_models.gaussian_mixture.univariate.learn_em:iteration=283, improvement=2.996373e-05\n",
      "DEBUG:graphical_models.gaussian_mixture.univariate.learn_em:iteration=284, improvement=3.208586e-05\n",
      "DEBUG:graphical_models.gaussian_mixture.univariate.learn_em:iteration=285, improvement=3.440182e-05\n",
      "DEBUG:graphical_models.gaussian_mixture.univariate.learn_em:iteration=286, improvement=3.692796e-05\n",
      "DEBUG:graphical_models.gaussian_mixture.univariate.learn_em:iteration=287, improvement=3.968152e-05\n",
      "DEBUG:graphical_models.gaussian_mixture.univariate.learn_em:iteration=288, improvement=4.268042e-05\n",
      "DEBUG:graphical_models.gaussian_mixture.univariate.learn_em:iteration=289, improvement=4.594307e-05\n",
      "DEBUG:graphical_models.gaussian_mixture.univariate.learn_em:iteration=290, improvement=4.948801e-05\n",
      "DEBUG:graphical_models.gaussian_mixture.univariate.learn_em:iteration=291, improvement=5.333342e-05\n",
      "DEBUG:graphical_models.gaussian_mixture.univariate.learn_em:iteration=292, improvement=5.749646e-05\n",
      "DEBUG:graphical_models.gaussian_mixture.univariate.learn_em:iteration=293, improvement=6.199241e-05\n",
      "DEBUG:graphical_models.gaussian_mixture.univariate.learn_em:iteration=294, improvement=6.683354e-05\n",
      "DEBUG:graphical_models.gaussian_mixture.univariate.learn_em:iteration=295, improvement=7.202764e-05\n",
      "DEBUG:graphical_models.gaussian_mixture.univariate.learn_em:iteration=296, improvement=7.757624e-05\n",
      "DEBUG:graphical_models.gaussian_mixture.univariate.learn_em:iteration=297, improvement=8.347242e-05\n",
      "DEBUG:graphical_models.gaussian_mixture.univariate.learn_em:iteration=298, improvement=8.969826e-05\n",
      "DEBUG:graphical_models.gaussian_mixture.univariate.learn_em:iteration=299, improvement=9.622190e-05\n",
      "DEBUG:graphical_models.gaussian_mixture.univariate.learn_em:iteration=300, improvement=1.029945e-04\n",
      "DEBUG:graphical_models.gaussian_mixture.univariate.learn_em:iteration=301, improvement=1.099471e-04\n",
      "DEBUG:graphical_models.gaussian_mixture.univariate.learn_em:iteration=302, improvement=1.169883e-04\n",
      "DEBUG:graphical_models.gaussian_mixture.univariate.learn_em:iteration=303, improvement=1.240032e-04\n",
      "DEBUG:graphical_models.gaussian_mixture.univariate.learn_em:iteration=304, improvement=1.308534e-04\n",
      "DEBUG:graphical_models.gaussian_mixture.univariate.learn_em:iteration=305, improvement=1.373811e-04\n",
      "DEBUG:graphical_models.gaussian_mixture.univariate.learn_em:iteration=306, improvement=1.434157e-04\n",
      "DEBUG:graphical_models.gaussian_mixture.univariate.learn_em:iteration=307, improvement=1.487848e-04\n",
      "DEBUG:graphical_models.gaussian_mixture.univariate.learn_em:iteration=308, improvement=1.533283e-04\n",
      "DEBUG:graphical_models.gaussian_mixture.univariate.learn_em:iteration=309, improvement=1.569139e-04\n",
      "DEBUG:graphical_models.gaussian_mixture.univariate.learn_em:iteration=310, improvement=1.594531e-04\n",
      "DEBUG:graphical_models.gaussian_mixture.univariate.learn_em:iteration=311, improvement=1.609125e-04\n",
      "DEBUG:graphical_models.gaussian_mixture.univariate.learn_em:iteration=312, improvement=1.613196e-04\n",
      "DEBUG:graphical_models.gaussian_mixture.univariate.learn_em:iteration=313, improvement=1.607598e-04\n",
      "DEBUG:graphical_models.gaussian_mixture.univariate.learn_em:iteration=314, improvement=1.593663e-04\n",
      "DEBUG:graphical_models.gaussian_mixture.univariate.learn_em:iteration=315, improvement=1.573025e-04\n",
      "DEBUG:graphical_models.gaussian_mixture.univariate.learn_em:iteration=316, improvement=1.547433e-04\n",
      "DEBUG:graphical_models.gaussian_mixture.univariate.learn_em:iteration=317, improvement=1.518567e-04\n",
      "DEBUG:graphical_models.gaussian_mixture.univariate.learn_em:iteration=318, improvement=1.487901e-04\n",
      "DEBUG:graphical_models.gaussian_mixture.univariate.learn_em:iteration=319, improvement=1.456630e-04\n",
      "DEBUG:graphical_models.gaussian_mixture.univariate.learn_em:iteration=320, improvement=1.425646e-04\n",
      "DEBUG:graphical_models.gaussian_mixture.univariate.learn_em:iteration=321, improvement=1.395572e-04\n",
      "DEBUG:graphical_models.gaussian_mixture.univariate.learn_em:iteration=322, improvement=1.366814e-04\n",
      "DEBUG:graphical_models.gaussian_mixture.univariate.learn_em:iteration=323, improvement=1.339619e-04\n",
      "DEBUG:graphical_models.gaussian_mixture.univariate.learn_em:iteration=324, improvement=1.314124e-04\n",
      "DEBUG:graphical_models.gaussian_mixture.univariate.learn_em:iteration=325, improvement=1.290386e-04\n",
      "DEBUG:graphical_models.gaussian_mixture.univariate.learn_em:iteration=326, improvement=1.268393e-04\n",
      "DEBUG:graphical_models.gaussian_mixture.univariate.learn_em:iteration=327, improvement=1.248067e-04\n",
      "DEBUG:graphical_models.gaussian_mixture.univariate.learn_em:iteration=328, improvement=1.229244e-04\n",
      "DEBUG:graphical_models.gaussian_mixture.univariate.learn_em:iteration=329, improvement=1.211666e-04\n",
      "DEBUG:graphical_models.gaussian_mixture.univariate.learn_em:iteration=330, improvement=1.194968e-04\n"
     ]
    },
    {
     "name": "stderr",
     "output_type": "stream",
     "text": [
      "DEBUG:graphical_models.gaussian_mixture.univariate.learn_em:iteration=331, improvement=1.178679e-04\n",
      "DEBUG:graphical_models.gaussian_mixture.univariate.learn_em:iteration=332, improvement=1.162228e-04\n",
      "DEBUG:graphical_models.gaussian_mixture.univariate.learn_em:iteration=333, improvement=1.144964e-04\n",
      "DEBUG:graphical_models.gaussian_mixture.univariate.learn_em:iteration=334, improvement=1.126193e-04\n",
      "DEBUG:graphical_models.gaussian_mixture.univariate.learn_em:iteration=335, improvement=1.105219e-04\n",
      "DEBUG:graphical_models.gaussian_mixture.univariate.learn_em:iteration=336, improvement=1.081394e-04\n",
      "DEBUG:graphical_models.gaussian_mixture.univariate.learn_em:iteration=337, improvement=1.054169e-04\n",
      "DEBUG:graphical_models.gaussian_mixture.univariate.learn_em:iteration=338, improvement=1.023146e-04\n",
      "DEBUG:graphical_models.gaussian_mixture.univariate.learn_em:iteration=339, improvement=9.881151e-05\n",
      "DEBUG:graphical_models.gaussian_mixture.univariate.learn_em:iteration=340, improvement=9.490810e-05\n",
      "DEBUG:graphical_models.gaussian_mixture.univariate.learn_em:iteration=341, improvement=9.062682e-05\n",
      "DEBUG:graphical_models.gaussian_mixture.univariate.learn_em:iteration=342, improvement=8.601077e-05\n",
      "DEBUG:graphical_models.gaussian_mixture.univariate.learn_em:iteration=343, improvement=8.112051e-05\n",
      "DEBUG:graphical_models.gaussian_mixture.univariate.learn_em:iteration=344, improvement=7.602944e-05\n",
      "DEBUG:graphical_models.gaussian_mixture.univariate.learn_em:iteration=345, improvement=7.081833e-05\n",
      "DEBUG:graphical_models.gaussian_mixture.univariate.learn_em:iteration=346, improvement=6.556975e-05\n",
      "DEBUG:graphical_models.gaussian_mixture.univariate.learn_em:iteration=347, improvement=6.036294e-05\n",
      "DEBUG:graphical_models.gaussian_mixture.univariate.learn_em:iteration=348, improvement=5.526975e-05\n",
      "DEBUG:graphical_models.gaussian_mixture.univariate.learn_em:iteration=349, improvement=5.035161e-05\n",
      "DEBUG:graphical_models.gaussian_mixture.univariate.learn_em:iteration=350, improvement=4.565801e-05\n",
      "DEBUG:graphical_models.gaussian_mixture.univariate.learn_em:iteration=351, improvement=4.122595e-05\n",
      "DEBUG:graphical_models.gaussian_mixture.univariate.learn_em:iteration=352, improvement=3.708047e-05\n",
      "DEBUG:graphical_models.gaussian_mixture.univariate.learn_em:iteration=353, improvement=3.323574e-05\n",
      "DEBUG:graphical_models.gaussian_mixture.univariate.learn_em:iteration=354, improvement=2.969661e-05\n",
      "DEBUG:graphical_models.gaussian_mixture.univariate.learn_em:iteration=355, improvement=2.646030e-05\n",
      "DEBUG:graphical_models.gaussian_mixture.univariate.learn_em:iteration=356, improvement=2.351813e-05\n",
      "DEBUG:graphical_models.gaussian_mixture.univariate.learn_em:iteration=357, improvement=2.085700e-05\n",
      "DEBUG:graphical_models.gaussian_mixture.univariate.learn_em:iteration=358, improvement=1.846084e-05\n",
      "DEBUG:graphical_models.gaussian_mixture.univariate.learn_em:iteration=359, improvement=1.631173e-05\n",
      "DEBUG:graphical_models.gaussian_mixture.univariate.learn_em:iteration=360, improvement=1.439079e-05\n",
      "DEBUG:graphical_models.gaussian_mixture.univariate.learn_em:iteration=361, improvement=1.267896e-05\n",
      "DEBUG:graphical_models.gaussian_mixture.univariate.learn_em:iteration=362, improvement=1.115747e-05\n",
      "DEBUG:graphical_models.gaussian_mixture.univariate.learn_em:iteration=363, improvement=9.808270e-06\n",
      "DEBUG:graphical_models.gaussian_mixture.univariate.learn_em:iteration=364, improvement=8.614259e-06\n",
      "DEBUG:graphical_models.gaussian_mixture.univariate.learn_em:iteration=365, improvement=7.559452e-06\n",
      "DEBUG:graphical_models.gaussian_mixture.univariate.learn_em:iteration=366, improvement=6.629065e-06\n",
      "DEBUG:graphical_models.gaussian_mixture.univariate.learn_em:iteration=367, improvement=5.809540e-06\n",
      "DEBUG:graphical_models.gaussian_mixture.univariate.learn_em:iteration=368, improvement=5.088530e-06\n",
      "DEBUG:graphical_models.gaussian_mixture.univariate.learn_em:iteration=369, improvement=4.454863e-06\n",
      "DEBUG:graphical_models.gaussian_mixture.univariate.learn_em:iteration=370, improvement=3.898475e-06\n",
      "DEBUG:graphical_models.gaussian_mixture.univariate.learn_em:iteration=371, improvement=3.410340e-06\n",
      "DEBUG:graphical_models.gaussian_mixture.univariate.learn_em:iteration=372, improvement=2.982396e-06\n",
      "DEBUG:graphical_models.gaussian_mixture.univariate.learn_em:iteration=373, improvement=2.607457e-06\n",
      "DEBUG:graphical_models.gaussian_mixture.univariate.learn_em:iteration=374, improvement=2.279144e-06\n",
      "DEBUG:graphical_models.gaussian_mixture.univariate.learn_em:iteration=375, improvement=1.991800e-06\n",
      "DEBUG:graphical_models.gaussian_mixture.univariate.learn_em:iteration=376, improvement=1.740421e-06\n",
      "DEBUG:graphical_models.gaussian_mixture.univariate.learn_em:iteration=377, improvement=1.520589e-06\n",
      "DEBUG:graphical_models.gaussian_mixture.univariate.learn_em:iteration=378, improvement=1.328411e-06\n",
      "DEBUG:graphical_models.gaussian_mixture.univariate.learn_em:iteration=379, improvement=1.160455e-06\n",
      "DEBUG:graphical_models.gaussian_mixture.univariate.learn_em:iteration=380, improvement=1.013707e-06\n",
      "DEBUG:graphical_models.gaussian_mixture.univariate.learn_em:iteration=381, improvement=8.855158e-07\n",
      "DEBUG:graphical_models.gaussian_mixture.univariate.learn_em:iteration=382, improvement=7.735559e-07\n",
      "DEBUG:graphical_models.gaussian_mixture.univariate.learn_em:iteration=383, improvement=6.757876e-07\n",
      "DEBUG:graphical_models.gaussian_mixture.univariate.learn_em:iteration=384, improvement=5.904231e-07\n",
      "DEBUG:graphical_models.gaussian_mixture.univariate.learn_em:iteration=385, improvement=5.158965e-07\n",
      "DEBUG:graphical_models.gaussian_mixture.univariate.learn_em:iteration=386, improvement=4.508371e-07\n",
      "DEBUG:graphical_models.gaussian_mixture.univariate.learn_em:iteration=387, improvement=3.940457e-07\n",
      "DEBUG:graphical_models.gaussian_mixture.univariate.learn_em:iteration=388, improvement=3.444734e-07\n",
      "DEBUG:graphical_models.gaussian_mixture.univariate.learn_em:iteration=389, improvement=3.012034e-07\n",
      "DEBUG:graphical_models.gaussian_mixture.univariate.learn_em:iteration=390, improvement=2.634342e-07\n",
      "DEBUG:graphical_models.gaussian_mixture.univariate.learn_em:iteration=391, improvement=2.304658e-07\n",
      "DEBUG:graphical_models.gaussian_mixture.univariate.learn_em:iteration=392, improvement=2.016869e-07\n",
      "DEBUG:graphical_models.gaussian_mixture.univariate.learn_em:iteration=393, improvement=1.765635e-07\n",
      "DEBUG:graphical_models.gaussian_mixture.univariate.learn_em:iteration=394, improvement=1.546294e-07\n",
      "DEBUG:graphical_models.gaussian_mixture.univariate.learn_em:iteration=395, improvement=1.354780e-07\n",
      "DEBUG:graphical_models.gaussian_mixture.univariate.learn_em:iteration=396, improvement=1.187541e-07\n",
      "DEBUG:graphical_models.gaussian_mixture.univariate.learn_em:iteration=397, improvement=1.041480e-07\n",
      "DEBUG:graphical_models.gaussian_mixture.univariate.learn_em:iteration=398, improvement=9.138944e-08\n",
      "DEBUG:graphical_models.gaussian_mixture.univariate.learn_em:iteration=399, improvement=8.024256e-08\n",
      "DEBUG:graphical_models.gaussian_mixture.univariate.learn_em:iteration=400, improvement=7.050175e-08\n",
      "DEBUG:graphical_models.gaussian_mixture.univariate.learn_em:iteration=401, improvement=6.198764e-08\n",
      "DEBUG:graphical_models.gaussian_mixture.univariate.learn_em:iteration=402, improvement=5.454377e-08\n",
      "DEBUG:graphical_models.gaussian_mixture.univariate.learn_em:iteration=403, improvement=4.803374e-08\n",
      "DEBUG:graphical_models.gaussian_mixture.univariate.learn_em:iteration=404, improvement=4.233855e-08\n",
      "DEBUG:graphical_models.gaussian_mixture.univariate.learn_em:iteration=405, improvement=3.735446e-08\n",
      "DEBUG:graphical_models.gaussian_mixture.univariate.learn_em:iteration=406, improvement=3.299101e-08\n",
      "DEBUG:graphical_models.gaussian_mixture.univariate.learn_em:iteration=407, improvement=2.916928e-08\n",
      "DEBUG:graphical_models.gaussian_mixture.univariate.learn_em:iteration=408, improvement=2.582050e-08\n",
      "DEBUG:graphical_models.gaussian_mixture.univariate.learn_em:iteration=409, improvement=2.288467e-08\n",
      "DEBUG:graphical_models.gaussian_mixture.univariate.learn_em:iteration=410, improvement=2.030946e-08\n",
      "DEBUG:graphical_models.gaussian_mixture.univariate.learn_em:iteration=411, improvement=1.804926e-08\n",
      "DEBUG:graphical_models.gaussian_mixture.univariate.learn_em:iteration=412, improvement=1.606428e-08\n"
     ]
    },
    {
     "name": "stderr",
     "output_type": "stream",
     "text": [
      "DEBUG:graphical_models.gaussian_mixture.univariate.learn_em:iteration=413, improvement=1.431981e-08\n",
      "DEBUG:graphical_models.gaussian_mixture.univariate.learn_em:iteration=414, improvement=1.278558e-08\n",
      "DEBUG:graphical_models.gaussian_mixture.univariate.learn_em:iteration=415, improvement=1.143518e-08\n",
      "DEBUG:graphical_models.gaussian_mixture.univariate.learn_em:iteration=416, improvement=1.024558e-08\n",
      "DEBUG:graphical_models.gaussian_mixture.univariate.learn_em:iteration=417, improvement=9.196675e-09\n"
     ]
    }
   ],
   "source": [
    "gmm_learned = learn_em(x, k, oracle, max_iter=1e10)\n"
   ]
  },
  {
   "cell_type": "code",
   "execution_count": null,
   "metadata": {
    "ExecuteTime": {
     "end_time": "2020-05-28T19:29:57.690079Z",
     "start_time": "2020-05-28T19:29:57.676719Z"
    }
   },
   "outputs": [],
   "source": [
    "print(\"done. learned gaussian mixture:\")\n",
    "print(gmm_learned)\n",
    "\n",
    "print(\"and the 'oracle' (truth) was:\")\n",
    "print(oracle)"
   ]
  },
  {
   "cell_type": "code",
   "execution_count": null,
   "metadata": {},
   "outputs": [],
   "source": []
  },
  {
   "cell_type": "code",
   "execution_count": null,
   "metadata": {},
   "outputs": [],
   "source": []
  },
  {
   "cell_type": "code",
   "execution_count": null,
   "metadata": {},
   "outputs": [],
   "source": []
  },
  {
   "cell_type": "code",
   "execution_count": null,
   "metadata": {},
   "outputs": [],
   "source": []
  },
  {
   "cell_type": "code",
   "execution_count": null,
   "metadata": {},
   "outputs": [],
   "source": []
  },
  {
   "cell_type": "code",
   "execution_count": null,
   "metadata": {},
   "outputs": [],
   "source": []
  },
  {
   "cell_type": "code",
   "execution_count": null,
   "metadata": {},
   "outputs": [],
   "source": []
  },
  {
   "cell_type": "code",
   "execution_count": null,
   "metadata": {},
   "outputs": [],
   "source": []
  },
  {
   "cell_type": "code",
   "execution_count": null,
   "metadata": {},
   "outputs": [],
   "source": []
  },
  {
   "cell_type": "code",
   "execution_count": null,
   "metadata": {},
   "outputs": [],
   "source": []
  },
  {
   "cell_type": "code",
   "execution_count": null,
   "metadata": {},
   "outputs": [],
   "source": []
  },
  {
   "cell_type": "code",
   "execution_count": null,
   "metadata": {},
   "outputs": [],
   "source": []
  }
 ],
 "metadata": {
  "kernelspec": {
   "display_name": "Python 3",
   "language": "python",
   "name": "python3"
  },
  "language_info": {
   "codemirror_mode": {
    "name": "ipython",
    "version": 3
   },
   "file_extension": ".py",
   "mimetype": "text/x-python",
   "name": "python",
   "nbconvert_exporter": "python",
   "pygments_lexer": "ipython3",
   "version": "3.8.1"
  },
  "toc": {
   "base_numbering": 1,
   "nav_menu": {},
   "number_sections": true,
   "sideBar": true,
   "skip_h1_title": false,
   "title_cell": "Table of Contents",
   "title_sidebar": "Contents",
   "toc_cell": false,
   "toc_position": {},
   "toc_section_display": true,
   "toc_window_display": false
  },
  "varInspector": {
   "cols": {
    "lenName": 16,
    "lenType": 16,
    "lenVar": 40
   },
   "kernels_config": {
    "python": {
     "delete_cmd_postfix": "",
     "delete_cmd_prefix": "del ",
     "library": "var_list.py",
     "varRefreshCmd": "print(var_dic_list())"
    },
    "r": {
     "delete_cmd_postfix": ") ",
     "delete_cmd_prefix": "rm(",
     "library": "var_list.r",
     "varRefreshCmd": "cat(var_dic_list()) "
    }
   },
   "types_to_exclude": [
    "module",
    "function",
    "builtin_function_or_method",
    "instance",
    "_Feature"
   ],
   "window_display": false
  }
 },
 "nbformat": 4,
 "nbformat_minor": 4
}
