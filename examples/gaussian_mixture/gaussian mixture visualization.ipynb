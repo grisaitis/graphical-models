{
 "cells": [
  {
   "cell_type": "markdown",
   "metadata": {
    "toc": true
   },
   "source": [
    "<h1>Table of Contents<span class=\"tocSkip\"></span></h1>\n",
    "<div class=\"toc\"><ul class=\"toc-item\"><li><span><a href=\"#imports-&amp;-config\" data-toc-modified-id=\"imports-&amp;-config-1\"><span class=\"toc-item-num\">1&nbsp;&nbsp;</span>imports &amp; config</a></span></li><li><span><a href=\"#make-data\" data-toc-modified-id=\"make-data-2\"><span class=\"toc-item-num\">2&nbsp;&nbsp;</span>make data</a></span></li><li><span><a href=\"#make-plots\" data-toc-modified-id=\"make-plots-3\"><span class=\"toc-item-num\">3&nbsp;&nbsp;</span>make plots</a></span><ul class=\"toc-item\"><li><span><a href=\"#define-subplots\" data-toc-modified-id=\"define-subplots-3.1\"><span class=\"toc-item-num\">3.1&nbsp;&nbsp;</span>define subplots</a></span></li><li><span><a href=\"#make-figure\" data-toc-modified-id=\"make-figure-3.2\"><span class=\"toc-item-num\">3.2&nbsp;&nbsp;</span>make figure</a></span></li><li><span><a href=\"#update-data\" data-toc-modified-id=\"update-data-3.3\"><span class=\"toc-item-num\">3.3&nbsp;&nbsp;</span>update data</a></span></li></ul></li></ul></div>"
   ]
  },
  {
   "cell_type": "markdown",
   "metadata": {},
   "source": [
    "# imports & config"
   ]
  },
  {
   "cell_type": "code",
   "execution_count": 1,
   "metadata": {
    "ExecuteTime": {
     "end_time": "2020-05-11T22:44:05.471093Z",
     "start_time": "2020-05-11T22:44:04.248325Z"
    }
   },
   "outputs": [],
   "source": [
    "import numpy as np\n",
    "import plotly.express as px\n",
    "import plotly.graph_objects as go\n",
    "from plotly.subplots import make_subplots\n",
    "import scipy.stats\n",
    "\n",
    "from graphical_models.gaussian_mixture.univariate import UnivariateGaussianMixture"
   ]
  },
  {
   "cell_type": "code",
   "execution_count": 2,
   "metadata": {
    "ExecuteTime": {
     "end_time": "2020-05-11T22:44:05.481218Z",
     "start_time": "2020-05-11T22:44:05.473750Z"
    }
   },
   "outputs": [],
   "source": [
    "np.set_printoptions(suppress=True)"
   ]
  },
  {
   "cell_type": "markdown",
   "metadata": {},
   "source": [
    "# make data"
   ]
  },
  {
   "cell_type": "code",
   "execution_count": 3,
   "metadata": {
    "ExecuteTime": {
     "end_time": "2020-05-11T22:44:05.492149Z",
     "start_time": "2020-05-11T22:44:05.484770Z"
    }
   },
   "outputs": [],
   "source": [
    "seed = 0\n",
    "np_rng = np.random.default_rng(seed)\n",
    "\n",
    "k = 5  # number of mixture components\n",
    "n = 5000  # number of data points to sample"
   ]
  },
  {
   "cell_type": "code",
   "execution_count": 4,
   "metadata": {
    "ExecuteTime": {
     "end_time": "2020-05-11T22:44:05.512661Z",
     "start_time": "2020-05-11T22:44:05.497737Z"
    }
   },
   "outputs": [],
   "source": [
    "# define the gaussian mixture and its parameters\n",
    "\n",
    "# weights: the relative contribution of each component\n",
    "alpha_dirichlet = np.ones(shape=(k,)) * 3 # make a well-behaved prior for weights of mixture components\n",
    "weights = np_rng.dirichlet(alpha=alpha_dirichlet)\n",
    "# locs: the means of each component\n",
    "locs = np_rng.normal(size=(k,)) * 10\n",
    "# scales: the standard deviations (data are univariate, so no covariance)\n",
    "scales = np.abs(np_rng.normal(size=(k,))) + 0.5\n",
    "\n",
    "gmm = UnivariateGaussianMixture(weights, locs, scales)"
   ]
  },
  {
   "cell_type": "code",
   "execution_count": 5,
   "metadata": {
    "ExecuteTime": {
     "end_time": "2020-05-11T22:44:05.532484Z",
     "start_time": "2020-05-11T22:44:05.514607Z"
    }
   },
   "outputs": [
    {
     "data": {
      "text/plain": [
       "GaussianMixture(\n",
       "\tweights=array([0.18321651, 0.2454824 , 0.119972  , 0.3446932 , 0.1066359 ]),\n",
       "\tlocs=array([ -6.23274463,   0.41325979, -23.25030775,  -2.18791664,\n",
       "       -12.45910947]),\n",
       "\tscales=array([1.23226735, 1.04425898, 0.81630016, 0.91163054, 1.54251337])\n",
       ")"
      ]
     },
     "execution_count": 5,
     "metadata": {},
     "output_type": "execute_result"
    }
   ],
   "source": [
    "gmm"
   ]
  },
  {
   "cell_type": "code",
   "execution_count": 6,
   "metadata": {
    "ExecuteTime": {
     "end_time": "2020-05-11T22:44:05.546964Z",
     "start_time": "2020-05-11T22:44:05.538528Z"
    }
   },
   "outputs": [],
   "source": [
    "x = gmm.sample(seed, n)"
   ]
  },
  {
   "cell_type": "code",
   "execution_count": 7,
   "metadata": {
    "ExecuteTime": {
     "end_time": "2020-05-11T22:44:05.564753Z",
     "start_time": "2020-05-11T22:44:05.554852Z"
    }
   },
   "outputs": [
    {
     "data": {
      "text/plain": [
       "(5000,)"
      ]
     },
     "execution_count": 7,
     "metadata": {},
     "output_type": "execute_result"
    }
   ],
   "source": [
    "x.shape"
   ]
  },
  {
   "cell_type": "markdown",
   "metadata": {},
   "source": [
    "# make plots"
   ]
  },
  {
   "cell_type": "markdown",
   "metadata": {},
   "source": [
    "## define subplots"
   ]
  },
  {
   "cell_type": "code",
   "execution_count": 8,
   "metadata": {
    "ExecuteTime": {
     "end_time": "2020-05-11T22:44:05.575187Z",
     "start_time": "2020-05-11T22:44:05.571736Z"
    }
   },
   "outputs": [],
   "source": [
    "# nbinsx = n//50"
   ]
  },
  {
   "cell_type": "code",
   "execution_count": 9,
   "metadata": {
    "ExecuteTime": {
     "end_time": "2020-05-11T22:44:05.622712Z",
     "start_time": "2020-05-11T22:44:05.578293Z"
    }
   },
   "outputs": [],
   "source": [
    "data_hist = go.Histogram(\n",
    "    name='data',\n",
    "    x=x,\n",
    "#     nbinsx=nbinsx,\n",
    "#     histnorm='probability'\n",
    ")"
   ]
  },
  {
   "cell_type": "code",
   "execution_count": 10,
   "metadata": {
    "ExecuteTime": {
     "end_time": "2020-05-11T22:44:05.687871Z",
     "start_time": "2020-05-11T22:44:05.628677Z"
    }
   },
   "outputs": [],
   "source": [
    "mixtures_bar = go.Bar(\n",
    "    name='gmm as bar',\n",
    "    x=gmm.locs,\n",
    "    y=gmm.weights,\n",
    "    width=gmm.scales * 4,\n",
    "#     opacity=0.5,\n",
    "#     width=0.2,\n",
    "#     error_x=dict(\n",
    "#         type='data',\n",
    "#         array=gmm.scales\n",
    "#     ),\n",
    "    marker_color=px.colors.qualitative.Plotly,\n",
    ")"
   ]
  },
  {
   "cell_type": "code",
   "execution_count": 11,
   "metadata": {
    "ExecuteTime": {
     "end_time": "2020-05-11T22:44:05.731949Z",
     "start_time": "2020-05-11T22:44:05.690704Z"
    }
   },
   "outputs": [],
   "source": [
    "mixtures_points = go.Scatter(\n",
    "    name='gmm components',\n",
    "    x=gmm.locs,\n",
    "    y=gmm.weights,\n",
    "    mode='markers',\n",
    "    error_x=dict(\n",
    "        type='data',\n",
    "        array=gmm.scales * 2,\n",
    "#         width=3,\n",
    "        thickness=1,\n",
    "    ),\n",
    "    marker=dict(\n",
    "#         size=gmm.scales * 50,\n",
    "        size=10,\n",
    "        color=px.colors.qualitative.Plotly,\n",
    "        symbol='circle',\n",
    "        line=dict(\n",
    "            color='black',\n",
    "            width=3\n",
    "        )\n",
    "#         symbol='line-ew',\n",
    "#         line_width=5,\n",
    "#         line_color=px.colors.qualitative.Plotly,\n",
    "))"
   ]
  },
  {
   "cell_type": "code",
   "execution_count": 12,
   "metadata": {
    "ExecuteTime": {
     "end_time": "2020-05-11T22:44:05.746266Z",
     "start_time": "2020-05-11T22:44:05.735137Z"
    }
   },
   "outputs": [],
   "source": [
    "def make_scatter_for_component(component_index):\n",
    "    x = np.linspace(\n",
    "        start=gmm.locs[component_index] - 4 * gmm.scales[component_index],\n",
    "        stop=gmm.locs[component_index] + 4 * gmm.scales[component_index],\n",
    "        num=51)\n",
    "    y = gmm.weights[component_index] * scipy.stats.norm.pdf(\n",
    "        x,\n",
    "        loc=gmm.locs[component_index],\n",
    "        scale=gmm.scales[component_index]\n",
    "    )\n",
    "    return go.Scatter(\n",
    "        name=f'gmm component {component_index}',\n",
    "        x=x,\n",
    "        y=y,\n",
    "        mode='lines',\n",
    "        opacity=0.5,\n",
    "        line=dict(\n",
    "            shape='spline',\n",
    "        )\n",
    "    )\n",
    "\n",
    "\n",
    "def make_scatter_for_mixture():\n",
    "    x = np.linspace(\n",
    "        start=np.min(gmm.locs - 4 * gmm.scales),\n",
    "        stop=np.max(gmm.locs + 4 * gmm.scales),\n",
    "        num=200)\n",
    "    y = np.sum(\n",
    "        [\n",
    "            weight * scipy.stats.norm.pdf(x, loc=loc, scale=scale)\n",
    "            for loc, scale, weight in zip(gmm.locs, gmm.scales, gmm.weights)\n",
    "        ],\n",
    "        axis=0\n",
    "    )\n",
    "    print(x.shape)\n",
    "    print(y.shape)\n",
    "    return go.Scatter(\n",
    "        name=f'gmm density',\n",
    "        x=x,\n",
    "        y=y,\n",
    "        line=dict(dash='dot', color='black'),\n",
    "        mode='lines',\n",
    "#         line_shape='spline'\n",
    "    )\n"
   ]
  },
  {
   "cell_type": "markdown",
   "metadata": {},
   "source": [
    "## make figure"
   ]
  },
  {
   "cell_type": "code",
   "execution_count": 13,
   "metadata": {
    "ExecuteTime": {
     "end_time": "2020-05-11T22:44:07.171799Z",
     "start_time": "2020-05-11T22:44:05.749316Z"
    }
   },
   "outputs": [
    {
     "name": "stdout",
     "output_type": "stream",
     "text": [
      "(200,)\n",
      "(200,)\n"
     ]
    },
    {
     "data": {
      "application/vnd.jupyter.widget-view+json": {
       "model_id": "baa3b69c71bb4a66bd5cf7e312306c16",
       "version_major": 2,
       "version_minor": 0
      },
      "text/plain": [
       "FigureWidget({\n",
       "    'data': [{'name': 'data',\n",
       "              'type': 'histogram',\n",
       "              'uid': 'fdcfc47b…"
      ]
     },
     "metadata": {},
     "output_type": "display_data"
    }
   ],
   "source": [
    "fig = make_subplots(\n",
    "    rows=3,\n",
    "    cols=1,\n",
    "    shared_xaxes=True,\n",
    "    subplot_titles=(\n",
    "        \"Sampled Data\",\n",
    "        \"GMM - Density Plot\",\n",
    "        \"GMM - Scatter Plot\",\n",
    "    ),\n",
    "    vertical_spacing=0.05,\n",
    "#     specs=[[{\"secondary_y\": True}], [{\"secondary_y\": False}]],\n",
    ")\n",
    "fig.update_layout(height=800, width=1000, title_text=\"Data + Gaussian Mixtures\")\n",
    "\n",
    "# add data\n",
    "fig.add_trace(data_hist, row=1, col=1)\n",
    "\n",
    "# add GMM density\n",
    "fig.add_trace(make_scatter_for_mixture(), row=2, col=1)\n",
    "# add mixture densities\n",
    "for k_ in range(k):\n",
    "    fig.add_trace(make_scatter_for_component(k_), row=2, col=1)\n",
    "\n",
    "# add GMM components\n",
    "fig.add_trace(mixtures_points, row=3, col=1)\n",
    "fig.update_yaxes(\n",
    "    title_text=\"mixture weights\",\n",
    "    range=[0, max(gmm.weights) *1.2],\n",
    "    row=3,\n",
    "    col=1)\n",
    "\n",
    "f = go.FigureWidget(fig)\n",
    "f"
   ]
  },
  {
   "cell_type": "markdown",
   "metadata": {},
   "source": [
    "## update data"
   ]
  },
  {
   "cell_type": "code",
   "execution_count": 14,
   "metadata": {
    "ExecuteTime": {
     "end_time": "2020-05-11T22:44:07.217138Z",
     "start_time": "2020-05-11T22:44:07.176964Z"
    }
   },
   "outputs": [
    {
     "name": "stdout",
     "output_type": "stream",
     "text": [
      "GaussianMixture(\n",
      "\tweights=array([0.18148396, 0.24339188, 0.12154554, 0.34333132, 0.11024731]),\n",
      "\tlocs=array([ -6.13873233,  -0.33023946, -24.17203312,  -2.64564246,\n",
      "       -12.23891435]),\n",
      "\tscales=array([0.22264917, 0.83508341, 0.65707515, 1.45247612, 1.75717249])\n",
      ")\n",
      "GaussianMixture(\n",
      "\tweights=array([0.18104377, 0.2426447 , 0.12231188, 0.34460762, 0.10939202]),\n",
      "\tlocs=array([ -7.39779786,   1.18368432, -22.8261577 ,  -1.86433106,\n",
      "       -11.97445872]),\n",
      "\tscales=array([-0.09127364,  2.29310409,  2.61733346,  3.25411099,  3.07227626])\n",
      ")\n",
      "GaussianMixture(\n",
      "\tweights=array([0.18280507, 0.24108344, 0.126045  , 0.34133032, 0.10873617]),\n",
      "\tlocs=array([ -7.0026758 ,   1.61354801, -22.13011497,  -3.04844903,\n",
      "       -12.63616129]),\n",
      "\tscales=array([-0.52770889,  1.12330218,  4.35670134,  2.75820026,  3.40124589])\n",
      ")\n",
      "GaussianMixture(\n",
      "\tweights=array([0.18280325, 0.23977852, 0.12704654, 0.34229774, 0.10807394]),\n",
      "\tlocs=array([ -6.95064683,   2.2972342 , -21.1261534 ,  -3.66635608,\n",
      "       -10.81414993]),\n",
      "\tscales=array([-1.84813986,  0.46177416,  5.29175133,  2.80725488,  5.40363847])\n",
      ")\n",
      "GaussianMixture(\n",
      "\tweights=array([0.181061  , 0.24263604, 0.12774753, 0.33949079, 0.10906464]),\n",
      "\tlocs=array([ -6.32023533,   2.87840002, -19.83159458,  -4.42096187,\n",
      "        -9.12504247]),\n",
      "\tscales=array([-2.13552757,  2.03618244,  4.85896548,  2.07177158,  5.65342384])\n",
      ")\n"
     ]
    }
   ],
   "source": [
    "from graphical_models.gaussian_mixture.univariate import UnivariateGaussianMixture\n",
    "\n",
    "def update_visualization(gmm):\n",
    "    print(gmm)\n",
    "    w, l, s = gmm.weights, gmm.locs, gmm.scales\n",
    "#     print(w, l, s)\n",
    "    return\n",
    "\n",
    "\n",
    "def update_continuously(gmm):\n",
    "    i = 0\n",
    "    while i < 5:\n",
    "        i += 1\n",
    "        w, l, s = gmm.weights, gmm.locs, gmm.scales\n",
    "        w = 0.99 * w + 0.01 * np_rng.dirichlet(alpha=np.ones((k,)))\n",
    "        l += np_rng.normal(size=l.shape)\n",
    "        s += np_rng.normal(size=s.shape)\n",
    "        gmm = UnivariateGaussianMixture(w, l, s)\n",
    "        update_visualization(gmm)\n",
    "    return\n",
    "\n",
    "\n",
    "update_continuously(gmm)"
   ]
  },
  {
   "cell_type": "code",
   "execution_count": null,
   "metadata": {},
   "outputs": [],
   "source": []
  }
 ],
 "metadata": {
  "kernelspec": {
   "display_name": "Python 3",
   "language": "python",
   "name": "python3"
  },
  "language_info": {
   "codemirror_mode": {
    "name": "ipython",
    "version": 3
   },
   "file_extension": ".py",
   "mimetype": "text/x-python",
   "name": "python",
   "nbconvert_exporter": "python",
   "pygments_lexer": "ipython3",
   "version": "3.8.1"
  },
  "toc": {
   "base_numbering": 1,
   "nav_menu": {},
   "number_sections": true,
   "sideBar": true,
   "skip_h1_title": false,
   "title_cell": "Table of Contents",
   "title_sidebar": "Table of Contents",
   "toc_cell": true,
   "toc_position": {
    "height": "calc(100% - 180px)",
    "left": "10px",
    "top": "150px",
    "width": "165px"
   },
   "toc_section_display": true,
   "toc_window_display": true
  },
  "varInspector": {
   "cols": {
    "lenName": 16,
    "lenType": 16,
    "lenVar": 40
   },
   "kernels_config": {
    "python": {
     "delete_cmd_postfix": "",
     "delete_cmd_prefix": "del ",
     "library": "var_list.py",
     "varRefreshCmd": "print(var_dic_list())"
    },
    "r": {
     "delete_cmd_postfix": ") ",
     "delete_cmd_prefix": "rm(",
     "library": "var_list.r",
     "varRefreshCmd": "cat(var_dic_list()) "
    }
   },
   "types_to_exclude": [
    "module",
    "function",
    "builtin_function_or_method",
    "instance",
    "_Feature"
   ],
   "window_display": false
  }
 },
 "nbformat": 4,
 "nbformat_minor": 4
}
